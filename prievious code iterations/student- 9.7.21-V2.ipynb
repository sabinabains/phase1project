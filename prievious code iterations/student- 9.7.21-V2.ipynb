{
 "cells": [
  {
   "cell_type": "markdown",
   "metadata": {},
   "source": [
    "## Final Project Submission\n",
    "\n",
    "Please fill out:\n",
    "* Student name: Sabina Bains\n",
    "* Student pace: self paced\n",
    "* Scheduled project review date/time: \n",
    "* Instructor name: Claude Fried\n",
    "* Blog post URL: \n"
   ]
  },
  {
   "cell_type": "code",
   "execution_count": 2,
   "metadata": {},
   "outputs": [],
   "source": [
    "# Import Standard Packages\n",
    "import pandas as pd\n",
    "import numpy as np\n",
    "import matplotlib.pyplot as plt\n",
    "import seaborn as sns\n",
    "from itertools import chain\n",
    "import statistics\n",
    "import os"
   ]
  },
  {
   "cell_type": "code",
   "execution_count": 43,
   "metadata": {},
   "outputs": [],
   "source": [
    "%matplotlib inline\n",
    "\n",
    "pd.set_option('display.max_columns', None)\n",
    "plt.style.use('seaborn-talk')"
   ]
  },
  {
   "cell_type": "markdown",
   "metadata": {},
   "source": [
    "Notes:\n",
    "\n",
    "imdb variable explanation: https://www.imdb.com/interfaces/"
   ]
  },
  {
   "cell_type": "code",
   "execution_count": 4,
   "metadata": {
    "scrolled": true
   },
   "outputs": [
    {
     "name": "stdout",
     "output_type": "stream",
     "text": [
      "0 zippeddata/imdb.title.crew.csv.gz\n",
      "1 zippeddata/imdb.title.basics.tsv.gz\n",
      "2 zippeddata/tmdb.movies.csv.gz\n",
      "3 zippeddata/imdb.title.akas.csv.gz\n",
      "4 zippeddata/imdb.title.ratings.csv.gz\n",
      "5 zippeddata/imdb.name.basics.csv.gz\n",
      "6 zippeddata/rt.reviews.tsv.gz\n",
      "7 zippeddata/imdb.title.basics.csv.gz\n",
      "8 zippeddata/rt.movie_info.tsv.gz\n",
      "9 zippeddata/tn.movie_budgets.csv.gz\n",
      "10 zippeddata/bom.movie_gross.csv.gz\n",
      "11 zippeddata/imdb.title.principals.csv.gz\n"
     ]
    }
   ],
   "source": [
    "#Viewing and changing filenames for easier file importing\n",
    "filenames = os.listdir('zippedData')\n",
    "paths = []\n",
    "\n",
    "for file in filenames:\n",
    "    paths.append('zippeddata/'+file)\n",
    "    \n",
    "for num, name in enumerate(paths):\n",
    "    print(num, name)"
   ]
  },
  {
   "cell_type": "markdown",
   "metadata": {},
   "source": [
    "# SUGGESTION #1:\n",
    "\n",
    "## Focus on creating movies in the News, Documentary, or Biography Genre\n",
    "\n",
    "- These Genres have the highest average rating\n",
    "\n",
    "\n",
    "### Notes:\n",
    "    -We should filter on whether each individual IMDB rating has >30? count\n",
    "    -Should filter on how many average ratings are in each genre (>10?)\n"
   ]
  },
  {
   "cell_type": "code",
   "execution_count": 5,
   "metadata": {},
   "outputs": [],
   "source": [
    "# Importing Ratings Data\n",
    "ratings = pd.read_csv(paths[4])"
   ]
  },
  {
   "cell_type": "code",
   "execution_count": 8,
   "metadata": {},
   "outputs": [
    {
     "data": {
      "text/html": [
       "<div>\n",
       "<style scoped>\n",
       "    .dataframe tbody tr th:only-of-type {\n",
       "        vertical-align: middle;\n",
       "    }\n",
       "\n",
       "    .dataframe tbody tr th {\n",
       "        vertical-align: top;\n",
       "    }\n",
       "\n",
       "    .dataframe thead th {\n",
       "        text-align: right;\n",
       "    }\n",
       "</style>\n",
       "<table border=\"1\" class=\"dataframe\">\n",
       "  <thead>\n",
       "    <tr style=\"text-align: right;\">\n",
       "      <th></th>\n",
       "      <th>tconst</th>\n",
       "      <th>titleType</th>\n",
       "      <th>primaryTitle</th>\n",
       "      <th>originalTitle</th>\n",
       "      <th>isAdult</th>\n",
       "      <th>startYear</th>\n",
       "      <th>endYear</th>\n",
       "      <th>runtimeMinutes</th>\n",
       "      <th>genres</th>\n",
       "    </tr>\n",
       "  </thead>\n",
       "  <tbody>\n",
       "    <tr>\n",
       "      <th>498</th>\n",
       "      <td>tt0000502</td>\n",
       "      <td>movie</td>\n",
       "      <td>Bohemios</td>\n",
       "      <td>Bohemios</td>\n",
       "      <td>0</td>\n",
       "      <td>1905</td>\n",
       "      <td>\\N</td>\n",
       "      <td>100</td>\n",
       "      <td>\\N</td>\n",
       "    </tr>\n",
       "    <tr>\n",
       "      <th>570</th>\n",
       "      <td>tt0000574</td>\n",
       "      <td>movie</td>\n",
       "      <td>The Story of the Kelly Gang</td>\n",
       "      <td>The Story of the Kelly Gang</td>\n",
       "      <td>0</td>\n",
       "      <td>1906</td>\n",
       "      <td>\\N</td>\n",
       "      <td>70</td>\n",
       "      <td>Action,Adventure,Biography</td>\n",
       "    </tr>\n",
       "    <tr>\n",
       "      <th>587</th>\n",
       "      <td>tt0000591</td>\n",
       "      <td>movie</td>\n",
       "      <td>The Prodigal Son</td>\n",
       "      <td>L'enfant prodigue</td>\n",
       "      <td>0</td>\n",
       "      <td>1907</td>\n",
       "      <td>\\N</td>\n",
       "      <td>90</td>\n",
       "      <td>Drama</td>\n",
       "    </tr>\n",
       "    <tr>\n",
       "      <th>610</th>\n",
       "      <td>tt0000615</td>\n",
       "      <td>movie</td>\n",
       "      <td>Robbery Under Arms</td>\n",
       "      <td>Robbery Under Arms</td>\n",
       "      <td>0</td>\n",
       "      <td>1907</td>\n",
       "      <td>\\N</td>\n",
       "      <td>\\N</td>\n",
       "      <td>Drama</td>\n",
       "    </tr>\n",
       "    <tr>\n",
       "      <th>625</th>\n",
       "      <td>tt0000630</td>\n",
       "      <td>movie</td>\n",
       "      <td>Hamlet</td>\n",
       "      <td>Amleto</td>\n",
       "      <td>0</td>\n",
       "      <td>1908</td>\n",
       "      <td>\\N</td>\n",
       "      <td>\\N</td>\n",
       "      <td>Drama</td>\n",
       "    </tr>\n",
       "    <tr>\n",
       "      <th>...</th>\n",
       "      <td>...</td>\n",
       "      <td>...</td>\n",
       "      <td>...</td>\n",
       "      <td>...</td>\n",
       "      <td>...</td>\n",
       "      <td>...</td>\n",
       "      <td>...</td>\n",
       "      <td>...</td>\n",
       "      <td>...</td>\n",
       "    </tr>\n",
       "    <tr>\n",
       "      <th>8230824</th>\n",
       "      <td>tt9916622</td>\n",
       "      <td>movie</td>\n",
       "      <td>Rodolpho Teóphilo - O Legado de um Pioneiro</td>\n",
       "      <td>Rodolpho Teóphilo - O Legado de um Pioneiro</td>\n",
       "      <td>0</td>\n",
       "      <td>2015</td>\n",
       "      <td>\\N</td>\n",
       "      <td>57</td>\n",
       "      <td>Documentary</td>\n",
       "    </tr>\n",
       "    <tr>\n",
       "      <th>8230851</th>\n",
       "      <td>tt9916680</td>\n",
       "      <td>movie</td>\n",
       "      <td>De la ilusión al desconcierto: cine colombiano...</td>\n",
       "      <td>De la ilusión al desconcierto: cine colombiano...</td>\n",
       "      <td>0</td>\n",
       "      <td>2007</td>\n",
       "      <td>\\N</td>\n",
       "      <td>100</td>\n",
       "      <td>Documentary</td>\n",
       "    </tr>\n",
       "    <tr>\n",
       "      <th>8230863</th>\n",
       "      <td>tt9916706</td>\n",
       "      <td>movie</td>\n",
       "      <td>Dankyavar Danka</td>\n",
       "      <td>Dankyavar Danka</td>\n",
       "      <td>0</td>\n",
       "      <td>2013</td>\n",
       "      <td>\\N</td>\n",
       "      <td>\\N</td>\n",
       "      <td>Comedy</td>\n",
       "    </tr>\n",
       "    <tr>\n",
       "      <th>8230874</th>\n",
       "      <td>tt9916730</td>\n",
       "      <td>movie</td>\n",
       "      <td>6 Gunn</td>\n",
       "      <td>6 Gunn</td>\n",
       "      <td>0</td>\n",
       "      <td>2017</td>\n",
       "      <td>\\N</td>\n",
       "      <td>116</td>\n",
       "      <td>\\N</td>\n",
       "    </tr>\n",
       "    <tr>\n",
       "      <th>8230885</th>\n",
       "      <td>tt9916754</td>\n",
       "      <td>movie</td>\n",
       "      <td>Chico Albuquerque - Revelações</td>\n",
       "      <td>Chico Albuquerque - Revelações</td>\n",
       "      <td>0</td>\n",
       "      <td>2013</td>\n",
       "      <td>\\N</td>\n",
       "      <td>49</td>\n",
       "      <td>Documentary</td>\n",
       "    </tr>\n",
       "  </tbody>\n",
       "</table>\n",
       "<p>586755 rows × 9 columns</p>\n",
       "</div>"
      ],
      "text/plain": [
       "            tconst titleType  \\\n",
       "498      tt0000502     movie   \n",
       "570      tt0000574     movie   \n",
       "587      tt0000591     movie   \n",
       "610      tt0000615     movie   \n",
       "625      tt0000630     movie   \n",
       "...            ...       ...   \n",
       "8230824  tt9916622     movie   \n",
       "8230851  tt9916680     movie   \n",
       "8230863  tt9916706     movie   \n",
       "8230874  tt9916730     movie   \n",
       "8230885  tt9916754     movie   \n",
       "\n",
       "                                              primaryTitle  \\\n",
       "498                                               Bohemios   \n",
       "570                            The Story of the Kelly Gang   \n",
       "587                                       The Prodigal Son   \n",
       "610                                     Robbery Under Arms   \n",
       "625                                                 Hamlet   \n",
       "...                                                    ...   \n",
       "8230824        Rodolpho Teóphilo - O Legado de um Pioneiro   \n",
       "8230851  De la ilusión al desconcierto: cine colombiano...   \n",
       "8230863                                    Dankyavar Danka   \n",
       "8230874                                             6 Gunn   \n",
       "8230885                     Chico Albuquerque - Revelações   \n",
       "\n",
       "                                             originalTitle isAdult startYear  \\\n",
       "498                                               Bohemios       0      1905   \n",
       "570                            The Story of the Kelly Gang       0      1906   \n",
       "587                                      L'enfant prodigue       0      1907   \n",
       "610                                     Robbery Under Arms       0      1907   \n",
       "625                                                 Amleto       0      1908   \n",
       "...                                                    ...     ...       ...   \n",
       "8230824        Rodolpho Teóphilo - O Legado de um Pioneiro       0      2015   \n",
       "8230851  De la ilusión al desconcierto: cine colombiano...       0      2007   \n",
       "8230863                                    Dankyavar Danka       0      2013   \n",
       "8230874                                             6 Gunn       0      2017   \n",
       "8230885                     Chico Albuquerque - Revelações       0      2013   \n",
       "\n",
       "        endYear runtimeMinutes                      genres  \n",
       "498          \\N            100                          \\N  \n",
       "570          \\N             70  Action,Adventure,Biography  \n",
       "587          \\N             90                       Drama  \n",
       "610          \\N             \\N                       Drama  \n",
       "625          \\N             \\N                       Drama  \n",
       "...         ...            ...                         ...  \n",
       "8230824      \\N             57                 Documentary  \n",
       "8230851      \\N            100                 Documentary  \n",
       "8230863      \\N             \\N                      Comedy  \n",
       "8230874      \\N            116                          \\N  \n",
       "8230885      \\N             49                 Documentary  \n",
       "\n",
       "[586755 rows x 9 columns]"
      ]
     },
     "execution_count": 8,
     "metadata": {},
     "output_type": "execute_result"
    }
   ],
   "source": [
    "# Importing Genre Data and Filtering on Type = Movie\n",
    "genres = pd.read_csv(paths[1],sep=\"\\t\",low_memory=False)\n",
    "genres = genres.loc[genres['titleType']=='movie']\n",
    "genres"
   ]
  },
  {
   "cell_type": "code",
   "execution_count": 12,
   "metadata": {},
   "outputs": [],
   "source": [
    "# Merging genre column to ratings info\n",
    "imdb = pd.merge(ratings, genres, on='tconst', how='inner')"
   ]
  },
  {
   "cell_type": "code",
   "execution_count": 13,
   "metadata": {},
   "outputs": [
    {
     "data": {
      "text/plain": [
       "tconst            0\n",
       "averagerating     0\n",
       "numvotes          0\n",
       "titleType         0\n",
       "primaryTitle      0\n",
       "originalTitle     0\n",
       "isAdult           0\n",
       "startYear         0\n",
       "endYear           0\n",
       "runtimeMinutes    0\n",
       "genres            0\n",
       "dtype: int64"
      ]
     },
     "execution_count": 13,
     "metadata": {},
     "output_type": "execute_result"
    }
   ],
   "source": [
    "#checking for duplicates and N/A's\n",
    "imdb.isna().sum()"
   ]
  },
  {
   "cell_type": "code",
   "execution_count": 14,
   "metadata": {},
   "outputs": [
    {
     "data": {
      "text/plain": [
       "0"
      ]
     },
     "execution_count": 14,
     "metadata": {},
     "output_type": "execute_result"
    }
   ],
   "source": [
    "imdb.duplicated().sum()"
   ]
  },
  {
   "cell_type": "code",
   "execution_count": 17,
   "metadata": {},
   "outputs": [
    {
     "data": {
      "text/plain": [
       "<AxesSubplot:>"
      ]
     },
     "execution_count": 17,
     "metadata": {},
     "output_type": "execute_result"
    },
    {
     "data": {
      "image/png": "[encoded data removed]",
      "text/plain": [
       "<Figure size 432x288 with 1 Axes>"
      ]
     },
     "metadata": {
      "needs_background": "light"
     },
     "output_type": "display_data"
    }
   ],
   "source": [
    "imdb.loc[imdb['numvotes']<200]['numvotes'].hist()"
   ]
  },
  {
   "cell_type": "code",
   "execution_count": 45,
   "metadata": {},
   "outputs": [
    {
     "data": {
      "text/plain": [
       "(36440, 14)"
      ]
     },
     "execution_count": 45,
     "metadata": {},
     "output_type": "execute_result"
    }
   ],
   "source": [
    "#### QUESTION - Should we filter out low numvotes? If so use this code\n",
    "imdb['numvotes'].describe().astype(int)\n",
    "imdb = imdb.loc[imdb['numvotes'] > 25]\n",
    "\n",
    "imdb.shape"
   ]
  },
  {
   "cell_type": "code",
   "execution_count": 21,
   "metadata": {},
   "outputs": [
    {
     "data": {
      "text/html": [
       "<div>\n",
       "<style scoped>\n",
       "    .dataframe tbody tr th:only-of-type {\n",
       "        vertical-align: middle;\n",
       "    }\n",
       "\n",
       "    .dataframe tbody tr th {\n",
       "        vertical-align: top;\n",
       "    }\n",
       "\n",
       "    .dataframe thead th {\n",
       "        text-align: right;\n",
       "    }\n",
       "</style>\n",
       "<table border=\"1\" class=\"dataframe\">\n",
       "  <thead>\n",
       "    <tr style=\"text-align: right;\">\n",
       "      <th></th>\n",
       "      <th>tconst</th>\n",
       "      <th>averagerating</th>\n",
       "      <th>numvotes</th>\n",
       "      <th>titleType</th>\n",
       "      <th>primaryTitle</th>\n",
       "      <th>originalTitle</th>\n",
       "      <th>isAdult</th>\n",
       "      <th>startYear</th>\n",
       "      <th>endYear</th>\n",
       "      <th>runtimeMinutes</th>\n",
       "      <th>genres</th>\n",
       "      <th>genre0</th>\n",
       "      <th>genre1</th>\n",
       "      <th>genre2</th>\n",
       "    </tr>\n",
       "  </thead>\n",
       "  <tbody>\n",
       "    <tr>\n",
       "      <th>1</th>\n",
       "      <td>tt10384606</td>\n",
       "      <td>8.9</td>\n",
       "      <td>559</td>\n",
       "      <td>movie</td>\n",
       "      <td>Borderless</td>\n",
       "      <td>Borderless</td>\n",
       "      <td>0</td>\n",
       "      <td>2019</td>\n",
       "      <td>\\N</td>\n",
       "      <td>87</td>\n",
       "      <td>Documentary</td>\n",
       "      <td>Documentary</td>\n",
       "      <td></td>\n",
       "      <td></td>\n",
       "    </tr>\n",
       "    <tr>\n",
       "      <th>3</th>\n",
       "      <td>tt1043726</td>\n",
       "      <td>4.2</td>\n",
       "      <td>50352</td>\n",
       "      <td>movie</td>\n",
       "      <td>The Legend of Hercules</td>\n",
       "      <td>The Legend of Hercules</td>\n",
       "      <td>0</td>\n",
       "      <td>2014</td>\n",
       "      <td>\\N</td>\n",
       "      <td>99</td>\n",
       "      <td>Action,Adventure,Fantasy</td>\n",
       "      <td>Action</td>\n",
       "      <td>Adventure</td>\n",
       "      <td>Fantasy</td>\n",
       "    </tr>\n",
       "    <tr>\n",
       "      <th>5</th>\n",
       "      <td>tt1069246</td>\n",
       "      <td>6.2</td>\n",
       "      <td>326</td>\n",
       "      <td>movie</td>\n",
       "      <td>Habana Eva</td>\n",
       "      <td>Habana Eva</td>\n",
       "      <td>0</td>\n",
       "      <td>2010</td>\n",
       "      <td>\\N</td>\n",
       "      <td>106</td>\n",
       "      <td>Comedy,Romance</td>\n",
       "      <td>Comedy</td>\n",
       "      <td>Romance</td>\n",
       "      <td></td>\n",
       "    </tr>\n",
       "    <tr>\n",
       "      <th>6</th>\n",
       "      <td>tt1094666</td>\n",
       "      <td>7.0</td>\n",
       "      <td>1613</td>\n",
       "      <td>movie</td>\n",
       "      <td>The Hammer</td>\n",
       "      <td>Hamill</td>\n",
       "      <td>0</td>\n",
       "      <td>2010</td>\n",
       "      <td>\\N</td>\n",
       "      <td>108</td>\n",
       "      <td>Biography,Drama,Sport</td>\n",
       "      <td>Biography</td>\n",
       "      <td>Drama</td>\n",
       "      <td>Sport</td>\n",
       "    </tr>\n",
       "    <tr>\n",
       "      <th>7</th>\n",
       "      <td>tt1130982</td>\n",
       "      <td>6.4</td>\n",
       "      <td>571</td>\n",
       "      <td>movie</td>\n",
       "      <td>The Night Clerk</td>\n",
       "      <td>Avant l'aube</td>\n",
       "      <td>0</td>\n",
       "      <td>2011</td>\n",
       "      <td>\\N</td>\n",
       "      <td>104</td>\n",
       "      <td>Drama,Thriller</td>\n",
       "      <td>Drama</td>\n",
       "      <td>Thriller</td>\n",
       "      <td></td>\n",
       "    </tr>\n",
       "  </tbody>\n",
       "</table>\n",
       "</div>"
      ],
      "text/plain": [
       "       tconst  averagerating  numvotes titleType            primaryTitle  \\\n",
       "1  tt10384606            8.9       559     movie              Borderless   \n",
       "3   tt1043726            4.2     50352     movie  The Legend of Hercules   \n",
       "5   tt1069246            6.2       326     movie              Habana Eva   \n",
       "6   tt1094666            7.0      1613     movie              The Hammer   \n",
       "7   tt1130982            6.4       571     movie         The Night Clerk   \n",
       "\n",
       "            originalTitle isAdult startYear endYear runtimeMinutes  \\\n",
       "1              Borderless       0      2019      \\N             87   \n",
       "3  The Legend of Hercules       0      2014      \\N             99   \n",
       "5              Habana Eva       0      2010      \\N            106   \n",
       "6                  Hamill       0      2010      \\N            108   \n",
       "7            Avant l'aube       0      2011      \\N            104   \n",
       "\n",
       "                     genres       genre0     genre1   genre2  \n",
       "1               Documentary  Documentary                      \n",
       "3  Action,Adventure,Fantasy       Action  Adventure  Fantasy  \n",
       "5            Comedy,Romance       Comedy    Romance           \n",
       "6     Biography,Drama,Sport    Biography      Drama    Sport  \n",
       "7            Drama,Thriller        Drama   Thriller           "
      ]
     },
     "execution_count": 21,
     "metadata": {},
     "output_type": "execute_result"
    }
   ],
   "source": [
    "#Since the genre column has multiple tags, I am splitting into multiple columns by \",\" separator\n",
    "imdb_split = imdb['genres'].str.split(',', expand=True).add_prefix('genre').fillna('')\n",
    "imdb = imdb.join(imdb_split)\n",
    "imdb.head()"
   ]
  },
  {
   "cell_type": "code",
   "execution_count": 22,
   "metadata": {},
   "outputs": [],
   "source": [
    "#Creating Deduplicated list of Genres to use as Keys for Dictionary\n",
    "genre_list = imdb.genres.str.split(',').to_list()\n",
    "genre_list = list(set(list(chain.from_iterable(genre_list))))"
   ]
  },
  {
   "cell_type": "code",
   "execution_count": 23,
   "metadata": {},
   "outputs": [],
   "source": [
    "#creating dictionary to map ratings to genres\n",
    "ratings_dict={}\n",
    "for item in genre_list:\n",
    "    ratings_dict[item] = []"
   ]
  },
  {
   "cell_type": "code",
   "execution_count": 24,
   "metadata": {},
   "outputs": [],
   "source": [
    "# Appending Average Rating to Dictionary of Genres\n",
    "for genre in genre_list:\n",
    "    for index, row in imdb.iterrows():\n",
    "        if imdb['genre0'][index] == genre:\n",
    "            ratings_dict[row['genre0']].append(row['averagerating'])\n",
    "        elif imdb['genre1'][index] == genre:\n",
    "            ratings_dict[row['genre1']].append(row['averagerating'])\n",
    "        elif imdb['genre2'][index] == genre:\n",
    "            ratings_dict[row['genre2']].append(row['averagerating'])"
   ]
  },
  {
   "cell_type": "code",
   "execution_count": 26,
   "metadata": {},
   "outputs": [
    {
     "name": "stdout",
     "output_type": "stream",
     "text": [
      "Biography [7.0, 7.6, 6.6, 7.7, 7.8]\n",
      "Sport [7.0, 7.6, 6.2, 7.3, 7.2]\n",
      "Fantasy [4.2, 6.5, 7.0, 5.6, 5.4]\n",
      "Drama [7.0, 6.4, 7.2, 5.8, 7.0]\n",
      "Music [5.2, 7.5, 7.0, 6.4, 8.5]\n",
      "Documentary [8.9, 6.2, 7.7, 6.7, 7.5]\n",
      "Mystery [7.4, 2.4, 6.5, 5.1, 7.5]\n",
      "Horror [5.6, 3.4, 5.1, 3.6, 3.5]\n",
      "Sci-Fi [4.2, 5.8, 4.6, 7.0, 4.7]\n",
      "Animation [7.0, 5.0, 6.1, 5.5, 6.1]\n",
      "News [7.3, 7.8, 8.7, 7.4, 8.2]\n",
      "Adult [6.9, 7.4, 7.4, 2.0]\n",
      "Western [4.3, 6.2, 6.0, 7.6, 6.5]\n",
      "Thriller [6.4, 5.5, 7.4, 5.8, 5.6]\n",
      "Family [5.4, 6.5, 3.4, 5.5, 4.4]\n",
      "Romance [6.2, 5.1, 5.8, 6.5, 5.4]\n",
      "War [7.2, 6.5, 6.5, 7.7, 2.4]\n",
      "Action [4.2, 4.2, 7.4, 7.2, 4.5]\n",
      "Musical [5.8, 4.9, 5.2, 7.2, 4.6]\n",
      "History [6.2, 6.2, 6.4, 6.3, 7.3]\n",
      "Crime [7.2, 6.1, 4.5, 6.2, 5.4]\n",
      "Comedy [6.2, 5.1, 5.8, 5.0, 7.2]\n",
      "\\N [7.5, 6.5, 8.6, 1.0, 7.9]\n",
      "Reality-TV [4.8]\n",
      "Adventure [4.2, 4.2, 7.0, 5.0, 7.4]\n"
     ]
    }
   ],
   "source": [
    "# previewing dictionary\n",
    "for i in ratings_dict:\n",
    "    print(i, ratings_dict[i][:5])"
   ]
  },
  {
   "cell_type": "code",
   "execution_count": 27,
   "metadata": {
    "scrolled": true
   },
   "outputs": [],
   "source": [
    "# calculating count of movies in each genre (as we should exclude genre if it doesn't have many movies represented)\n",
    "count_dict = ratings_dict.copy()\n",
    "\n",
    "for i in ratings_dict:\n",
    "    count_dict[i] = len(ratings_dict[i])"
   ]
  },
  {
   "cell_type": "code",
   "execution_count": 28,
   "metadata": {},
   "outputs": [],
   "source": [
    "# calculating average rating per Genre\n",
    "avg_ratings_dict = {}\n",
    "for i in ratings_dict:\n",
    "    avg_ratings_dict[i] = statistics.mean(ratings_dict[i])"
   ]
  },
  {
   "cell_type": "code",
   "execution_count": 29,
   "metadata": {},
   "outputs": [],
   "source": [
    "# Turning Ratings Dict into DF for Boxplot\n",
    "genre_ratings_df = pd.DataFrame.from_dict(ratings_dict, orient = \"index\").sort_index().stack().reset_index(level=1, drop=True).reset_index()\n",
    "genre_ratings_df.columns = ['Genre','Average Rating']"
   ]
  },
  {
   "cell_type": "code",
   "execution_count": 30,
   "metadata": {},
   "outputs": [],
   "source": [
    "#creating df from ratings column from dictionary\n",
    "genre_rating = pd.DataFrame(avg_ratings_dict,index=['Average Rating'])\n",
    "genre_rating = genre_rating.transpose()\n",
    "genre_rating = genre_rating.reset_index()"
   ]
  },
  {
   "cell_type": "code",
   "execution_count": 32,
   "metadata": {},
   "outputs": [
    {
     "data": {
      "text/html": [
       "<div>\n",
       "<style scoped>\n",
       "    .dataframe tbody tr th:only-of-type {\n",
       "        vertical-align: middle;\n",
       "    }\n",
       "\n",
       "    .dataframe tbody tr th {\n",
       "        vertical-align: top;\n",
       "    }\n",
       "\n",
       "    .dataframe thead th {\n",
       "        text-align: right;\n",
       "    }\n",
       "</style>\n",
       "<table border=\"1\" class=\"dataframe\">\n",
       "  <thead>\n",
       "    <tr style=\"text-align: right;\">\n",
       "      <th></th>\n",
       "      <th>index</th>\n",
       "      <th>Average Rating</th>\n",
       "    </tr>\n",
       "  </thead>\n",
       "  <tbody>\n",
       "    <tr>\n",
       "      <th>0</th>\n",
       "      <td>Biography</td>\n",
       "      <td>6.929905</td>\n",
       "    </tr>\n",
       "    <tr>\n",
       "      <th>1</th>\n",
       "      <td>Sport</td>\n",
       "      <td>6.688279</td>\n",
       "    </tr>\n",
       "    <tr>\n",
       "      <th>2</th>\n",
       "      <td>Fantasy</td>\n",
       "      <td>5.629291</td>\n",
       "    </tr>\n",
       "    <tr>\n",
       "      <th>3</th>\n",
       "      <td>Drama</td>\n",
       "      <td>6.202077</td>\n",
       "    </tr>\n",
       "    <tr>\n",
       "      <th>4</th>\n",
       "      <td>Music</td>\n",
       "      <td>6.786524</td>\n",
       "    </tr>\n",
       "  </tbody>\n",
       "</table>\n",
       "</div>"
      ],
      "text/plain": [
       "       index  Average Rating\n",
       "0  Biography        6.929905\n",
       "1      Sport        6.688279\n",
       "2    Fantasy        5.629291\n",
       "3      Drama        6.202077\n",
       "4      Music        6.786524"
      ]
     },
     "execution_count": 32,
     "metadata": {},
     "output_type": "execute_result"
    }
   ],
   "source": [
    "genre_rating.head()"
   ]
  },
  {
   "cell_type": "code",
   "execution_count": 33,
   "metadata": {},
   "outputs": [],
   "source": [
    "#creating df with count column from dictionary\n",
    "genre_count = pd.DataFrame(count_dict,index=['Count'])\n",
    "genre_count = genre_count.transpose()\n",
    "genre_count = genre_count.reset_index()"
   ]
  },
  {
   "cell_type": "code",
   "execution_count": 34,
   "metadata": {},
   "outputs": [
    {
     "data": {
      "text/html": [
       "<div>\n",
       "<style scoped>\n",
       "    .dataframe tbody tr th:only-of-type {\n",
       "        vertical-align: middle;\n",
       "    }\n",
       "\n",
       "    .dataframe tbody tr th {\n",
       "        vertical-align: top;\n",
       "    }\n",
       "\n",
       "    .dataframe thead th {\n",
       "        text-align: right;\n",
       "    }\n",
       "</style>\n",
       "<table border=\"1\" class=\"dataframe\">\n",
       "  <thead>\n",
       "    <tr style=\"text-align: right;\">\n",
       "      <th></th>\n",
       "      <th>index</th>\n",
       "      <th>Count</th>\n",
       "    </tr>\n",
       "  </thead>\n",
       "  <tbody>\n",
       "    <tr>\n",
       "      <th>0</th>\n",
       "      <td>Biography</td>\n",
       "      <td>1886</td>\n",
       "    </tr>\n",
       "    <tr>\n",
       "      <th>1</th>\n",
       "      <td>Sport</td>\n",
       "      <td>674</td>\n",
       "    </tr>\n",
       "    <tr>\n",
       "      <th>2</th>\n",
       "      <td>Fantasy</td>\n",
       "      <td>1369</td>\n",
       "    </tr>\n",
       "    <tr>\n",
       "      <th>3</th>\n",
       "      <td>Drama</td>\n",
       "      <td>17576</td>\n",
       "    </tr>\n",
       "    <tr>\n",
       "      <th>4</th>\n",
       "      <td>Music</td>\n",
       "      <td>935</td>\n",
       "    </tr>\n",
       "  </tbody>\n",
       "</table>\n",
       "</div>"
      ],
      "text/plain": [
       "       index  Count\n",
       "0  Biography   1886\n",
       "1      Sport    674\n",
       "2    Fantasy   1369\n",
       "3      Drama  17576\n",
       "4      Music    935"
      ]
     },
     "execution_count": 34,
     "metadata": {},
     "output_type": "execute_result"
    }
   ],
   "source": [
    "genre_count.head()"
   ]
  },
  {
   "cell_type": "code",
   "execution_count": 35,
   "metadata": {},
   "outputs": [
    {
     "data": {
      "text/html": [
       "<div>\n",
       "<style scoped>\n",
       "    .dataframe tbody tr th:only-of-type {\n",
       "        vertical-align: middle;\n",
       "    }\n",
       "\n",
       "    .dataframe tbody tr th {\n",
       "        vertical-align: top;\n",
       "    }\n",
       "\n",
       "    .dataframe thead th {\n",
       "        text-align: right;\n",
       "    }\n",
       "</style>\n",
       "<table border=\"1\" class=\"dataframe\">\n",
       "  <thead>\n",
       "    <tr style=\"text-align: right;\">\n",
       "      <th></th>\n",
       "      <th>Genre</th>\n",
       "      <th>Average Rating</th>\n",
       "      <th>Count</th>\n",
       "    </tr>\n",
       "  </thead>\n",
       "  <tbody>\n",
       "    <tr>\n",
       "      <th>0</th>\n",
       "      <td>Biography</td>\n",
       "      <td>6.929905</td>\n",
       "      <td>1886</td>\n",
       "    </tr>\n",
       "    <tr>\n",
       "      <th>1</th>\n",
       "      <td>Sport</td>\n",
       "      <td>6.688279</td>\n",
       "      <td>674</td>\n",
       "    </tr>\n",
       "    <tr>\n",
       "      <th>2</th>\n",
       "      <td>Fantasy</td>\n",
       "      <td>5.629291</td>\n",
       "      <td>1369</td>\n",
       "    </tr>\n",
       "    <tr>\n",
       "      <th>3</th>\n",
       "      <td>Drama</td>\n",
       "      <td>6.202077</td>\n",
       "      <td>17576</td>\n",
       "    </tr>\n",
       "    <tr>\n",
       "      <th>4</th>\n",
       "      <td>Music</td>\n",
       "      <td>6.786524</td>\n",
       "      <td>935</td>\n",
       "    </tr>\n",
       "  </tbody>\n",
       "</table>\n",
       "</div>"
      ],
      "text/plain": [
       "       Genre  Average Rating  Count\n",
       "0  Biography        6.929905   1886\n",
       "1      Sport        6.688279    674\n",
       "2    Fantasy        5.629291   1369\n",
       "3      Drama        6.202077  17576\n",
       "4      Music        6.786524    935"
      ]
     },
     "execution_count": 35,
     "metadata": {},
     "output_type": "execute_result"
    }
   ],
   "source": [
    "# final merge onto genre column for analysis\n",
    "genre = pd.merge(genre_rating,genre_count, on=\"index\")\n",
    "genre.rename(columns={'index':'Genre'},inplace=True)\n",
    "genre.head()"
   ]
  },
  {
   "cell_type": "code",
   "execution_count": 36,
   "metadata": {},
   "outputs": [],
   "source": [
    "# filtering out any genre column that has less than 10 movies represented and sorting by highest rating\n",
    "genre = genre.loc[genre['Count'] >= 10].reset_index(drop=True)\n",
    "genre = genre.sort_values('Average Rating', ascending = False)"
   ]
  },
  {
   "cell_type": "code",
   "execution_count": null,
   "metadata": {},
   "outputs": [],
   "source": []
  },
  {
   "cell_type": "code",
   "execution_count": 47,
   "metadata": {
    "scrolled": true
   },
   "outputs": [
    {
     "data": {
      "image/png": "[encoded data removed]",
      "text/plain": [
       "<Figure size 1800x576 with 1 Axes>"
      ]
     },
     "metadata": {
      "needs_background": "light"
     },
     "output_type": "display_data"
    }
   ],
   "source": [
    "# Bar Plot of Ratings by Genre\n",
    "fig, ax = plt.subplots(figsize=(25,8))\n",
    "sns.barplot(x = 'Genre',\n",
    "            y = 'Average Rating',\n",
    "            data = genre,\n",
    "            ax = ax,\n",
    "            color = 'tab:blue')\n",
    "fig.tight_layout()"
   ]
  },
  {
   "cell_type": "code",
   "execution_count": 49,
   "metadata": {},
   "outputs": [
    {
     "data": {
      "image/png": "[encoded data removed]",
      "text/plain": [
       "<Figure size 1800x1080 with 1 Axes>"
      ]
     },
     "metadata": {},
     "output_type": "display_data"
    }
   ],
   "source": [
    "# Boxplot of Ratings by Genre\n",
    "ax = sns.boxplot(x='Genre', y=\"Average Rating\", data=genre_ratings_df, order=genre['Genre'].tolist())"
   ]
  },
  {
   "cell_type": "code",
   "execution_count": null,
   "metadata": {},
   "outputs": [],
   "source": [
    "def top_in_genre(genre):\n",
    "    cols=['genres','primaryTitle','averagerating','numvotes','isAdult','startYear','runtimeMinutes']\n",
    "    df = imdb[cols]\n",
    "    df = df.copy()\n",
    "    df = df.loc[df['genres'].str.contains(genre)]\n",
    "    df = df.sort_values(by='averagerating',ascending=False).head()\n",
    "    return df"
   ]
  },
  {
   "cell_type": "code",
   "execution_count": null,
   "metadata": {},
   "outputs": [],
   "source": [
    "top_in_genre('Horror')"
   ]
  },
  {
   "cell_type": "code",
   "execution_count": null,
   "metadata": {},
   "outputs": [],
   "source": [
    "# genre_ratings_df.groupby('Genre').std().sort_values(by='Average Rating', ascending=False)"
   ]
  },
  {
   "cell_type": "markdown",
   "metadata": {},
   "source": [
    "# 2\n",
    "\n",
    "## crew w highest ratings\n",
    "\n",
    "- join nconst with ratings to see which writers / directors have the most success."
   ]
  },
  {
   "cell_type": "code",
   "execution_count": null,
   "metadata": {},
   "outputs": [],
   "source": [
    "#read in data\n",
    "namebasics = pd.read_csv(paths[5])\n",
    "titlecrew = pd.read_csv(paths[0])\n",
    "titleps = pd.read_csv(paths[11])\n",
    "titleakas = pd.read_csv(paths[3])\n",
    "titleakas=titleakas.rename(columns={'title_id':'tconst'})"
   ]
  },
  {
   "cell_type": "code",
   "execution_count": null,
   "metadata": {},
   "outputs": [],
   "source": [
    "crew = pd.merge(titleps,namedetails,on='nconst',how='left')\n",
    "crew = crew.drop_duplicates()"
   ]
  },
  {
   "cell_type": "code",
   "execution_count": null,
   "metadata": {},
   "outputs": [],
   "source": [
    "crew = pd.merge(crew,titleakas,on='tconst',how='left')\n",
    "crew2 = pd.merge(crew,imdb,on='tconst',how='left')\n",
    "crew_cols = ['category','nconst', 'tconst','characters',\n",
    "       'primary_name','known_for_titles','averagerating','numvotes','genres','region']\n",
    "crew2 = crew2[crew_cols]\n",
    "crew3 = crew2.loc[~crew2['averagerating'].isnull()]"
   ]
  },
  {
   "cell_type": "code",
   "execution_count": null,
   "metadata": {},
   "outputs": [],
   "source": [
    "crew4 = crew3.loc[crew3['numvotes']>10000]"
   ]
  },
  {
   "cell_type": "code",
   "execution_count": null,
   "metadata": {},
   "outputs": [],
   "source": [
    "a_list = ['actor','actress']\n",
    "actor = crew4.loc[crew4['category'].isin(a_list)]\n",
    "actor = actor.loc[actor['region']=='US']\n",
    "# actor.sort_values('numvotes',ascending=False)"
   ]
  },
  {
   "cell_type": "code",
   "execution_count": null,
   "metadata": {},
   "outputs": [],
   "source": [
    "actor_group = actor.groupby('primary_name')['averagerating'].agg(['mean','count']).reset_index()"
   ]
  },
  {
   "cell_type": "code",
   "execution_count": null,
   "metadata": {},
   "outputs": [],
   "source": [
    "a = actor_group.loc[actor_group['count']>2]\n",
    "a = a.sort_values('mean',ascending=False).head(10)"
   ]
  },
  {
   "cell_type": "code",
   "execution_count": null,
   "metadata": {},
   "outputs": [],
   "source": [
    "# Bar Plot of Ratings by Actor\n",
    "sns.barplot(x = 'primary_name',\n",
    "            y = 'mean',\n",
    "            data = a)\n",
    " \n",
    "sns.set(rc={'figure.figsize':(25,8)})\n",
    "# plt.show()"
   ]
  },
  {
   "cell_type": "code",
   "execution_count": 45,
   "metadata": {},
   "outputs": [],
   "source": [
    "#working test\n",
    "df = pd.DataFrame({'A':[1,2,3,4],'B':['sab,mom','shay','simmy,dad,missi','mom,dad']})\n",
    "namedict={'sab':[],'mom':[],'shay':[],'simmy':[],'dad':[],'missi':[]}"
   ]
  },
  {
   "cell_type": "code",
   "execution_count": null,
   "metadata": {},
   "outputs": [],
   "source": [
    "for index, row in df.iterrows():\n",
    "    for name in namedict:\n",
    "        if name in row['B']:\n",
    "            namedict[name].append(row['A'])"
   ]
  },
  {
   "cell_type": "code",
   "execution_count": null,
   "metadata": {},
   "outputs": [],
   "source": []
  },
  {
   "cell_type": "code",
   "execution_count": null,
   "metadata": {},
   "outputs": [],
   "source": [
    "#test for another proj I be working on:\n",
    "#subracting by previous row \n",
    "import pandas as pd\n",
    "\n",
    "#creating fake DF \n",
    "df = pd.DataFrame({'A':[1,2,3,4],'B':[10,21,33,46]})\n",
    "\n",
    "#Creating new column and setting to 0 for now\n",
    "df['C'] = 0\n",
    "\n",
    "#using .loc to grab subract value in the current row for column B by the previous row for column B\n",
    "for i in range(1, len(df)):\n",
    "    df.loc[i, 'C'] = df.loc[i, 'B']- df.loc[i-1, 'B']\n",
    "    \n",
    "df"
   ]
  },
  {
   "cell_type": "markdown",
   "metadata": {},
   "source": [
    "#  # 3:\n",
    "\n"
   ]
  },
  {
   "cell_type": "code",
   "execution_count": 90,
   "metadata": {},
   "outputs": [],
   "source": [
    "profit = pd.read_csv(paths[9])"
   ]
  },
  {
   "cell_type": "code",
   "execution_count": 91,
   "metadata": {},
   "outputs": [
    {
     "data": {
      "text/plain": [
       "str"
      ]
     },
     "execution_count": 91,
     "metadata": {},
     "output_type": "execute_result"
    }
   ],
   "source": [
    "# profit['release_date'].astype(int)\n",
    "type(profit['release_date'][0])"
   ]
  },
  {
   "cell_type": "code",
   "execution_count": 98,
   "metadata": {},
   "outputs": [],
   "source": [
    "profit['startYear'] = profit['release_date'].map(lambda x : x[-4:])\n",
    "profit.rename(columns={'movie':'primaryTitle'}, inplace=True)"
   ]
  },
  {
   "cell_type": "code",
   "execution_count": 107,
   "metadata": {},
   "outputs": [],
   "source": [
    "merge_list=['primaryTitle','startYear']\n",
    "f = pd.merge(imdb,profit,on=merge_list,how='inner')"
   ]
  },
  {
   "cell_type": "code",
   "execution_count": 109,
   "metadata": {},
   "outputs": [
    {
     "data": {
      "text/html": [
       "<div>\n",
       "<style scoped>\n",
       "    .dataframe tbody tr th:only-of-type {\n",
       "        vertical-align: middle;\n",
       "    }\n",
       "\n",
       "    .dataframe tbody tr th {\n",
       "        vertical-align: top;\n",
       "    }\n",
       "\n",
       "    .dataframe thead th {\n",
       "        text-align: right;\n",
       "    }\n",
       "</style>\n",
       "<table border=\"1\" class=\"dataframe\">\n",
       "  <thead>\n",
       "    <tr style=\"text-align: right;\">\n",
       "      <th></th>\n",
       "      <th>tconst</th>\n",
       "      <th>averagerating</th>\n",
       "      <th>numvotes</th>\n",
       "      <th>titleType</th>\n",
       "      <th>primaryTitle</th>\n",
       "      <th>originalTitle</th>\n",
       "      <th>isAdult</th>\n",
       "      <th>startYear</th>\n",
       "      <th>endYear</th>\n",
       "      <th>runtimeMinutes</th>\n",
       "      <th>genres</th>\n",
       "      <th>genre0</th>\n",
       "      <th>genre1</th>\n",
       "      <th>genre2</th>\n",
       "      <th>id</th>\n",
       "      <th>release_date</th>\n",
       "      <th>production_budget</th>\n",
       "      <th>domestic_gross</th>\n",
       "      <th>worldwide_gross</th>\n",
       "    </tr>\n",
       "  </thead>\n",
       "  <tbody>\n",
       "    <tr>\n",
       "      <th>0</th>\n",
       "      <td>tt1043726</td>\n",
       "      <td>4.2</td>\n",
       "      <td>50352</td>\n",
       "      <td>movie</td>\n",
       "      <td>The Legend of Hercules</td>\n",
       "      <td>The Legend of Hercules</td>\n",
       "      <td>0</td>\n",
       "      <td>2014</td>\n",
       "      <td>\\N</td>\n",
       "      <td>99</td>\n",
       "      <td>Action,Adventure,Fantasy</td>\n",
       "      <td>Action</td>\n",
       "      <td>Adventure</td>\n",
       "      <td>Fantasy</td>\n",
       "      <td>42</td>\n",
       "      <td>Jan 10, 2014</td>\n",
       "      <td>$70,000,000</td>\n",
       "      <td>$18,848,538</td>\n",
       "      <td>$58,953,319</td>\n",
       "    </tr>\n",
       "    <tr>\n",
       "      <th>1</th>\n",
       "      <td>tt1171222</td>\n",
       "      <td>5.1</td>\n",
       "      <td>8296</td>\n",
       "      <td>movie</td>\n",
       "      <td>Baggage Claim</td>\n",
       "      <td>Baggage Claim</td>\n",
       "      <td>0</td>\n",
       "      <td>2013</td>\n",
       "      <td>\\N</td>\n",
       "      <td>96</td>\n",
       "      <td>Comedy,Romance</td>\n",
       "      <td>Comedy</td>\n",
       "      <td>Romance</td>\n",
       "      <td></td>\n",
       "      <td>38</td>\n",
       "      <td>Sep 27, 2013</td>\n",
       "      <td>$8,500,000</td>\n",
       "      <td>$21,569,509</td>\n",
       "      <td>$22,885,836</td>\n",
       "    </tr>\n",
       "    <tr>\n",
       "      <th>2</th>\n",
       "      <td>tt1210166</td>\n",
       "      <td>7.6</td>\n",
       "      <td>326657</td>\n",
       "      <td>movie</td>\n",
       "      <td>Moneyball</td>\n",
       "      <td>Moneyball</td>\n",
       "      <td>0</td>\n",
       "      <td>2011</td>\n",
       "      <td>\\N</td>\n",
       "      <td>133</td>\n",
       "      <td>Biography,Drama,Sport</td>\n",
       "      <td>Biography</td>\n",
       "      <td>Drama</td>\n",
       "      <td>Sport</td>\n",
       "      <td>15</td>\n",
       "      <td>Sep 23, 2011</td>\n",
       "      <td>$50,000,000</td>\n",
       "      <td>$75,605,492</td>\n",
       "      <td>$111,300,835</td>\n",
       "    </tr>\n",
       "    <tr>\n",
       "      <th>3</th>\n",
       "      <td>tt1212419</td>\n",
       "      <td>6.5</td>\n",
       "      <td>87288</td>\n",
       "      <td>movie</td>\n",
       "      <td>Hereafter</td>\n",
       "      <td>Hereafter</td>\n",
       "      <td>0</td>\n",
       "      <td>2010</td>\n",
       "      <td>\\N</td>\n",
       "      <td>129</td>\n",
       "      <td>Drama,Fantasy,Romance</td>\n",
       "      <td>Drama</td>\n",
       "      <td>Fantasy</td>\n",
       "      <td>Romance</td>\n",
       "      <td>61</td>\n",
       "      <td>Oct 15, 2010</td>\n",
       "      <td>$50,000,000</td>\n",
       "      <td>$32,746,941</td>\n",
       "      <td>$108,660,270</td>\n",
       "    </tr>\n",
       "    <tr>\n",
       "      <th>4</th>\n",
       "      <td>tt1232829</td>\n",
       "      <td>7.2</td>\n",
       "      <td>477771</td>\n",
       "      <td>movie</td>\n",
       "      <td>21 Jump Street</td>\n",
       "      <td>21 Jump Street</td>\n",
       "      <td>0</td>\n",
       "      <td>2012</td>\n",
       "      <td>\\N</td>\n",
       "      <td>109</td>\n",
       "      <td>Action,Comedy,Crime</td>\n",
       "      <td>Action</td>\n",
       "      <td>Comedy</td>\n",
       "      <td>Crime</td>\n",
       "      <td>44</td>\n",
       "      <td>Mar 16, 2012</td>\n",
       "      <td>$42,000,000</td>\n",
       "      <td>$138,447,667</td>\n",
       "      <td>$202,812,429</td>\n",
       "    </tr>\n",
       "    <tr>\n",
       "      <th>...</th>\n",
       "      <td>...</td>\n",
       "      <td>...</td>\n",
       "      <td>...</td>\n",
       "      <td>...</td>\n",
       "      <td>...</td>\n",
       "      <td>...</td>\n",
       "      <td>...</td>\n",
       "      <td>...</td>\n",
       "      <td>...</td>\n",
       "      <td>...</td>\n",
       "      <td>...</td>\n",
       "      <td>...</td>\n",
       "      <td>...</td>\n",
       "      <td>...</td>\n",
       "      <td>...</td>\n",
       "      <td>...</td>\n",
       "      <td>...</td>\n",
       "      <td>...</td>\n",
       "      <td>...</td>\n",
       "    </tr>\n",
       "    <tr>\n",
       "      <th>1446</th>\n",
       "      <td>tt2386490</td>\n",
       "      <td>7.6</td>\n",
       "      <td>60769</td>\n",
       "      <td>movie</td>\n",
       "      <td>How to Train Your Dragon: The Hidden World</td>\n",
       "      <td>How to Train Your Dragon: The Hidden World</td>\n",
       "      <td>0</td>\n",
       "      <td>2019</td>\n",
       "      <td>\\N</td>\n",
       "      <td>104</td>\n",
       "      <td>Action,Adventure,Animation</td>\n",
       "      <td>Action</td>\n",
       "      <td>Adventure</td>\n",
       "      <td>Animation</td>\n",
       "      <td>56</td>\n",
       "      <td>Feb 22, 2019</td>\n",
       "      <td>$129,000,000</td>\n",
       "      <td>$160,791,800</td>\n",
       "      <td>$519,258,283</td>\n",
       "    </tr>\n",
       "    <tr>\n",
       "      <th>1447</th>\n",
       "      <td>tt2704998</td>\n",
       "      <td>7.0</td>\n",
       "      <td>163279</td>\n",
       "      <td>movie</td>\n",
       "      <td>Game Night</td>\n",
       "      <td>Game Night</td>\n",
       "      <td>0</td>\n",
       "      <td>2018</td>\n",
       "      <td>\\N</td>\n",
       "      <td>100</td>\n",
       "      <td>Action,Comedy,Crime</td>\n",
       "      <td>Action</td>\n",
       "      <td>Comedy</td>\n",
       "      <td>Crime</td>\n",
       "      <td>94</td>\n",
       "      <td>Feb 23, 2018</td>\n",
       "      <td>$37,000,000</td>\n",
       "      <td>$69,179,066</td>\n",
       "      <td>$117,378,084</td>\n",
       "    </tr>\n",
       "    <tr>\n",
       "      <th>1448</th>\n",
       "      <td>tt2723576</td>\n",
       "      <td>4.9</td>\n",
       "      <td>632</td>\n",
       "      <td>movie</td>\n",
       "      <td>The Sleepwalker</td>\n",
       "      <td>The Sleepwalker</td>\n",
       "      <td>0</td>\n",
       "      <td>2014</td>\n",
       "      <td>\\N</td>\n",
       "      <td>91</td>\n",
       "      <td>Drama</td>\n",
       "      <td>Drama</td>\n",
       "      <td></td>\n",
       "      <td></td>\n",
       "      <td>2</td>\n",
       "      <td>Nov 21, 2014</td>\n",
       "      <td>$1,100,000</td>\n",
       "      <td>$2,636</td>\n",
       "      <td>$2,636</td>\n",
       "    </tr>\n",
       "    <tr>\n",
       "      <th>1449</th>\n",
       "      <td>tt2980210</td>\n",
       "      <td>6.1</td>\n",
       "      <td>36062</td>\n",
       "      <td>movie</td>\n",
       "      <td>A Hologram for the King</td>\n",
       "      <td>A Hologram for the King</td>\n",
       "      <td>0</td>\n",
       "      <td>2016</td>\n",
       "      <td>\\N</td>\n",
       "      <td>98</td>\n",
       "      <td>Comedy,Drama,Romance</td>\n",
       "      <td>Comedy</td>\n",
       "      <td>Drama</td>\n",
       "      <td>Romance</td>\n",
       "      <td>47</td>\n",
       "      <td>Apr 22, 2016</td>\n",
       "      <td>$35,000,000</td>\n",
       "      <td>$4,212,494</td>\n",
       "      <td>$11,846,010</td>\n",
       "    </tr>\n",
       "    <tr>\n",
       "      <th>1450</th>\n",
       "      <td>tt3125324</td>\n",
       "      <td>6.9</td>\n",
       "      <td>14122</td>\n",
       "      <td>movie</td>\n",
       "      <td>Beyond the Lights</td>\n",
       "      <td>Beyond the Lights</td>\n",
       "      <td>0</td>\n",
       "      <td>2014</td>\n",
       "      <td>\\N</td>\n",
       "      <td>116</td>\n",
       "      <td>Drama,Music,Romance</td>\n",
       "      <td>Drama</td>\n",
       "      <td>Music</td>\n",
       "      <td>Romance</td>\n",
       "      <td>16</td>\n",
       "      <td>Nov 14, 2014</td>\n",
       "      <td>$7,000,000</td>\n",
       "      <td>$14,618,727</td>\n",
       "      <td>$14,618,727</td>\n",
       "    </tr>\n",
       "  </tbody>\n",
       "</table>\n",
       "<p>1451 rows × 19 columns</p>\n",
       "</div>"
      ],
      "text/plain": [
       "         tconst  averagerating  numvotes titleType  \\\n",
       "0     tt1043726            4.2     50352     movie   \n",
       "1     tt1171222            5.1      8296     movie   \n",
       "2     tt1210166            7.6    326657     movie   \n",
       "3     tt1212419            6.5     87288     movie   \n",
       "4     tt1232829            7.2    477771     movie   \n",
       "...         ...            ...       ...       ...   \n",
       "1446  tt2386490            7.6     60769     movie   \n",
       "1447  tt2704998            7.0    163279     movie   \n",
       "1448  tt2723576            4.9       632     movie   \n",
       "1449  tt2980210            6.1     36062     movie   \n",
       "1450  tt3125324            6.9     14122     movie   \n",
       "\n",
       "                                    primaryTitle  \\\n",
       "0                         The Legend of Hercules   \n",
       "1                                  Baggage Claim   \n",
       "2                                      Moneyball   \n",
       "3                                      Hereafter   \n",
       "4                                 21 Jump Street   \n",
       "...                                          ...   \n",
       "1446  How to Train Your Dragon: The Hidden World   \n",
       "1447                                  Game Night   \n",
       "1448                             The Sleepwalker   \n",
       "1449                     A Hologram for the King   \n",
       "1450                           Beyond the Lights   \n",
       "\n",
       "                                   originalTitle isAdult startYear endYear  \\\n",
       "0                         The Legend of Hercules       0      2014      \\N   \n",
       "1                                  Baggage Claim       0      2013      \\N   \n",
       "2                                      Moneyball       0      2011      \\N   \n",
       "3                                      Hereafter       0      2010      \\N   \n",
       "4                                 21 Jump Street       0      2012      \\N   \n",
       "...                                          ...     ...       ...     ...   \n",
       "1446  How to Train Your Dragon: The Hidden World       0      2019      \\N   \n",
       "1447                                  Game Night       0      2018      \\N   \n",
       "1448                             The Sleepwalker       0      2014      \\N   \n",
       "1449                     A Hologram for the King       0      2016      \\N   \n",
       "1450                           Beyond the Lights       0      2014      \\N   \n",
       "\n",
       "     runtimeMinutes                      genres     genre0     genre1  \\\n",
       "0                99    Action,Adventure,Fantasy     Action  Adventure   \n",
       "1                96              Comedy,Romance     Comedy    Romance   \n",
       "2               133       Biography,Drama,Sport  Biography      Drama   \n",
       "3               129       Drama,Fantasy,Romance      Drama    Fantasy   \n",
       "4               109         Action,Comedy,Crime     Action     Comedy   \n",
       "...             ...                         ...        ...        ...   \n",
       "1446            104  Action,Adventure,Animation     Action  Adventure   \n",
       "1447            100         Action,Comedy,Crime     Action     Comedy   \n",
       "1448             91                       Drama      Drama              \n",
       "1449             98        Comedy,Drama,Romance     Comedy      Drama   \n",
       "1450            116         Drama,Music,Romance      Drama      Music   \n",
       "\n",
       "         genre2  id  release_date production_budget domestic_gross  \\\n",
       "0       Fantasy  42  Jan 10, 2014       $70,000,000    $18,848,538   \n",
       "1                38  Sep 27, 2013        $8,500,000    $21,569,509   \n",
       "2         Sport  15  Sep 23, 2011       $50,000,000    $75,605,492   \n",
       "3       Romance  61  Oct 15, 2010       $50,000,000    $32,746,941   \n",
       "4         Crime  44  Mar 16, 2012       $42,000,000   $138,447,667   \n",
       "...         ...  ..           ...               ...            ...   \n",
       "1446  Animation  56  Feb 22, 2019      $129,000,000   $160,791,800   \n",
       "1447      Crime  94  Feb 23, 2018       $37,000,000    $69,179,066   \n",
       "1448              2  Nov 21, 2014        $1,100,000         $2,636   \n",
       "1449    Romance  47  Apr 22, 2016       $35,000,000     $4,212,494   \n",
       "1450    Romance  16  Nov 14, 2014        $7,000,000    $14,618,727   \n",
       "\n",
       "     worldwide_gross  \n",
       "0        $58,953,319  \n",
       "1        $22,885,836  \n",
       "2       $111,300,835  \n",
       "3       $108,660,270  \n",
       "4       $202,812,429  \n",
       "...              ...  \n",
       "1446    $519,258,283  \n",
       "1447    $117,378,084  \n",
       "1448          $2,636  \n",
       "1449     $11,846,010  \n",
       "1450     $14,618,727  \n",
       "\n",
       "[1451 rows x 19 columns]"
      ]
     },
     "execution_count": 109,
     "metadata": {},
     "output_type": "execute_result"
    }
   ],
   "source": [
    "# f.isna().sum()\n",
    "f"
   ]
  },
  {
   "cell_type": "code",
   "execution_count": null,
   "metadata": {},
   "outputs": [],
   "source": [
    "# DATA CLEANING\n",
    "\n",
    "# Removing , and $ from dollar columns to turn into type int\n",
    "profit.columns\n",
    "profit_cols = ['production_budget', 'domestic_gross','worldwide_gross']\n",
    "for i in profit_cols:\n",
    "    profit[i]=profit[i].str.replace('$','')\n",
    "    profit[i]=profit[i].str.replace(',','').astype(int)\n",
    "profit['profit']=profit['worldwide_gross']-profit['production_budget']"
   ]
  },
  {
   "cell_type": "code",
   "execution_count": null,
   "metadata": {},
   "outputs": [],
   "source": [
    "imdb2 = imdb.rename(columns={'primaryTitle':'movie'})"
   ]
  },
  {
   "cell_type": "code",
   "execution_count": null,
   "metadata": {},
   "outputs": [],
   "source": [
    "test = pd.merge(imdb2,profit,how='left')\n",
    "x = test.dropna()\n",
    "x = x.sort_values(by='profit',ascending=False)"
   ]
  },
  {
   "cell_type": "code",
   "execution_count": null,
   "metadata": {},
   "outputs": [],
   "source": [
    "x.plot('averagerating','profit',kind='scatter')"
   ]
  },
  {
   "cell_type": "markdown",
   "metadata": {},
   "source": [
    "# trying out other DFs besides IMDB"
   ]
  },
  {
   "cell_type": "code",
   "execution_count": 55,
   "metadata": {
    "scrolled": true
   },
   "outputs": [
    {
     "data": {
      "text/html": [
       "<div>\n",
       "<style scoped>\n",
       "    .dataframe tbody tr th:only-of-type {\n",
       "        vertical-align: middle;\n",
       "    }\n",
       "\n",
       "    .dataframe tbody tr th {\n",
       "        vertical-align: top;\n",
       "    }\n",
       "\n",
       "    .dataframe thead th {\n",
       "        text-align: right;\n",
       "    }\n",
       "</style>\n",
       "<table border=\"1\" class=\"dataframe\">\n",
       "  <thead>\n",
       "    <tr style=\"text-align: right;\">\n",
       "      <th></th>\n",
       "      <th>Unnamed: 0</th>\n",
       "      <th>genre_ids</th>\n",
       "      <th>id</th>\n",
       "      <th>original_language</th>\n",
       "      <th>original_title</th>\n",
       "      <th>popularity</th>\n",
       "      <th>release_date</th>\n",
       "      <th>title</th>\n",
       "      <th>vote_average</th>\n",
       "      <th>vote_count</th>\n",
       "    </tr>\n",
       "  </thead>\n",
       "  <tbody>\n",
       "    <tr>\n",
       "      <th>13258</th>\n",
       "      <td>13258</td>\n",
       "      <td>[99]</td>\n",
       "      <td>403294</td>\n",
       "      <td>en</td>\n",
       "      <td>9/11: Simulations</td>\n",
       "      <td>0.6</td>\n",
       "      <td>2014-07-04</td>\n",
       "      <td>9/11: Simulations</td>\n",
       "      <td>10.0</td>\n",
       "      <td>1</td>\n",
       "    </tr>\n",
       "    <tr>\n",
       "      <th>11010</th>\n",
       "      <td>11010</td>\n",
       "      <td>[]</td>\n",
       "      <td>203325</td>\n",
       "      <td>en</td>\n",
       "      <td>Slaves Body</td>\n",
       "      <td>0.6</td>\n",
       "      <td>2013-06-25</td>\n",
       "      <td>Slaves Body</td>\n",
       "      <td>0.5</td>\n",
       "      <td>1</td>\n",
       "    </tr>\n",
       "    <tr>\n",
       "      <th>11011</th>\n",
       "      <td>11011</td>\n",
       "      <td>[99]</td>\n",
       "      <td>186242</td>\n",
       "      <td>en</td>\n",
       "      <td>Re-Emerging: The Jews of Nigeria</td>\n",
       "      <td>0.6</td>\n",
       "      <td>2013-05-17</td>\n",
       "      <td>Re-Emerging: The Jews of Nigeria</td>\n",
       "      <td>0.5</td>\n",
       "      <td>2</td>\n",
       "    </tr>\n",
       "    <tr>\n",
       "      <th>11012</th>\n",
       "      <td>11012</td>\n",
       "      <td>[99]</td>\n",
       "      <td>116868</td>\n",
       "      <td>en</td>\n",
       "      <td>Occupation: Fighter</td>\n",
       "      <td>0.6</td>\n",
       "      <td>2013-08-02</td>\n",
       "      <td>Occupation: Fighter</td>\n",
       "      <td>0.5</td>\n",
       "      <td>2</td>\n",
       "    </tr>\n",
       "    <tr>\n",
       "      <th>11013</th>\n",
       "      <td>11013</td>\n",
       "      <td>[99]</td>\n",
       "      <td>85337</td>\n",
       "      <td>en</td>\n",
       "      <td>Wonders Are Many: The Making of Doctor Atomic</td>\n",
       "      <td>0.6</td>\n",
       "      <td>2013-08-07</td>\n",
       "      <td>Wonders Are Many: The Making of Doctor Atomic</td>\n",
       "      <td>0.5</td>\n",
       "      <td>2</td>\n",
       "    </tr>\n",
       "  </tbody>\n",
       "</table>\n",
       "</div>"
      ],
      "text/plain": [
       "       Unnamed: 0 genre_ids      id original_language  \\\n",
       "13258       13258      [99]  403294                en   \n",
       "11010       11010        []  203325                en   \n",
       "11011       11011      [99]  186242                en   \n",
       "11012       11012      [99]  116868                en   \n",
       "11013       11013      [99]   85337                en   \n",
       "\n",
       "                                      original_title  popularity release_date  \\\n",
       "13258                              9/11: Simulations         0.6   2014-07-04   \n",
       "11010                                    Slaves Body         0.6   2013-06-25   \n",
       "11011               Re-Emerging: The Jews of Nigeria         0.6   2013-05-17   \n",
       "11012                            Occupation: Fighter         0.6   2013-08-02   \n",
       "11013  Wonders Are Many: The Making of Doctor Atomic         0.6   2013-08-07   \n",
       "\n",
       "                                               title  vote_average  vote_count  \n",
       "13258                              9/11: Simulations          10.0           1  \n",
       "11010                                    Slaves Body           0.5           1  \n",
       "11011               Re-Emerging: The Jews of Nigeria           0.5           2  \n",
       "11012                            Occupation: Fighter           0.5           2  \n",
       "11013  Wonders Are Many: The Making of Doctor Atomic           0.5           2  "
      ]
     },
     "execution_count": 55,
     "metadata": {},
     "output_type": "execute_result"
    }
   ],
   "source": [
    "tmd = pd.read_csv(paths[2])\n",
    "# tmd = tmd.rename(columns={'original_title':'movie'})\n",
    "\n",
    "# y = pd.merge(x,tmd,on='movie',how='inner')\n",
    "tmd.sort_values(by='popularity',ascending=True).head()"
   ]
  },
  {
   "cell_type": "code",
   "execution_count": null,
   "metadata": {},
   "outputs": [],
   "source": []
  }
 ],
 "metadata": {
  "kernelspec": {
   "display_name": "Python 3",
   "language": "python",
   "name": "python3"
  },
  "language_info": {
   "codemirror_mode": {
    "name": "ipython",
    "version": 3
   },
   "file_extension": ".py",
   "mimetype": "text/x-python",
   "name": "python",
   "nbconvert_exporter": "python",
   "pygments_lexer": "ipython3",
   "version": "3.8.5"
  }
 },
 "nbformat": 4,
 "nbformat_minor": 2
}
