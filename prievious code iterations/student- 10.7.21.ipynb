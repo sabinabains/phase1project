{
 "cells": [
  {
   "cell_type": "markdown",
   "metadata": {},
   "source": [
    "# Final Project Submission\n",
    "\n",
    "* Student name: Sabina Bains\n",
    "* Student pace: Self Paced\n",
    "* Scheduled project review date / time: Friday, 9/24/21\n",
    "* Instructor name: Claude Fried\n",
    "* Blog post URL: ??"
   ]
  },
  {
   "cell_type": "markdown",
   "metadata": {},
   "source": [
    "# Microsoft Movie Studio Analysis"
   ]
  },
  {
   "cell_type": "markdown",
   "metadata": {},
   "source": [
    "## Objective:\n",
    "\n",
    "This analysis explores data "
   ]
  },
  {
   "cell_type": "markdown",
   "metadata": {},
   "source": [
    "## Business Problem\n",
    "\n",
    "Explore movie data and provide insights for Microsoft to successfuly launch their movie studio??????????"
   ]
  },
  {
   "cell_type": "markdown",
   "metadata": {},
   "source": [
    "### Importing Packages and Reading in Files"
   ]
  },
  {
   "cell_type": "code",
   "execution_count": 1,
   "metadata": {},
   "outputs": [],
   "source": [
    "# Import Standard Packages\n",
    "import pandas as pd\n",
    "import numpy as np\n",
    "import matplotlib\n",
    "import matplotlib.pyplot as plt\n",
    "import seaborn as sns\n",
    "from itertools import chain\n",
    "import statistics\n",
    "import os\n",
    "\n",
    "%matplotlib inline\n",
    "\n",
    "pd.set_option('display.max_columns', None)\n",
    "plt.style.use('seaborn-talk')"
   ]
  },
  {
   "cell_type": "code",
   "execution_count": 2,
   "metadata": {
    "scrolled": false
   },
   "outputs": [
    {
     "name": "stdout",
     "output_type": "stream",
     "text": [
      "0 zippeddata/imdb.title.crew.csv.gz\n",
      "1 zippeddata/imdb.title.basics.tsv.gz\n",
      "2 zippeddata/tmdb.movies.csv.gz\n",
      "3 zippeddata/imdb.title.akas.csv.gz\n",
      "4 zippeddata/imdb.title.ratings.csv.gz\n",
      "5 zippeddata/imdb.name.basics.csv.gz\n",
      "6 zippeddata/rt.reviews.tsv.gz\n",
      "7 zippeddata/imdb.title.basics.csv.gz\n",
      "8 zippeddata/rt.movie_info.tsv.gz\n",
      "9 zippeddata/tn.movie_budgets.csv.gz\n",
      "10 zippeddata/bom.movie_gross.csv.gz\n",
      "11 zippeddata/imdb.title.principals.csv.gz\n"
     ]
    }
   ],
   "source": [
    "#Viewing and changing filenames for easier file importing\n",
    "filenames = os.listdir('zippedData')\n",
    "paths = []\n",
    "\n",
    "for file in filenames:\n",
    "    paths.append('zippeddata/'+file)\n",
    "    \n",
    "for num, name in enumerate(paths):\n",
    "    print(num, name)"
   ]
  },
  {
   "cell_type": "markdown",
   "metadata": {},
   "source": [
    "#  1: TOP GENRES BY MEDIAN PROFIT"
   ]
  },
  {
   "cell_type": "code",
   "execution_count": 228,
   "metadata": {},
   "outputs": [],
   "source": [
    "#importing profit dataset\n",
    "profit = pd.read_csv(paths[9])"
   ]
  },
  {
   "cell_type": "code",
   "execution_count": 229,
   "metadata": {},
   "outputs": [],
   "source": [
    "# Importing Genre Data and Filtering on Type = Movie\n",
    "genres = pd.read_csv(paths[1],sep=\"\\t\",low_memory=False)\n",
    "genres = genres.loc[genres['titleType']=='movie']"
   ]
  },
  {
   "cell_type": "code",
   "execution_count": 230,
   "metadata": {},
   "outputs": [
    {
     "data": {
      "text/html": [
       "<div>\n",
       "<style scoped>\n",
       "    .dataframe tbody tr th:only-of-type {\n",
       "        vertical-align: middle;\n",
       "    }\n",
       "\n",
       "    .dataframe tbody tr th {\n",
       "        vertical-align: top;\n",
       "    }\n",
       "\n",
       "    .dataframe thead th {\n",
       "        text-align: right;\n",
       "    }\n",
       "</style>\n",
       "<table border=\"1\" class=\"dataframe\">\n",
       "  <thead>\n",
       "    <tr style=\"text-align: right;\">\n",
       "      <th></th>\n",
       "      <th>tconst</th>\n",
       "      <th>titleType</th>\n",
       "      <th>primaryTitle</th>\n",
       "      <th>originalTitle</th>\n",
       "      <th>isAdult</th>\n",
       "      <th>startYear</th>\n",
       "      <th>endYear</th>\n",
       "      <th>runtimeMinutes</th>\n",
       "      <th>genres</th>\n",
       "    </tr>\n",
       "  </thead>\n",
       "  <tbody>\n",
       "    <tr>\n",
       "      <th>498</th>\n",
       "      <td>tt0000502</td>\n",
       "      <td>movie</td>\n",
       "      <td>Bohemios</td>\n",
       "      <td>Bohemios</td>\n",
       "      <td>0</td>\n",
       "      <td>1905</td>\n",
       "      <td>\\N</td>\n",
       "      <td>100</td>\n",
       "      <td>\\N</td>\n",
       "    </tr>\n",
       "    <tr>\n",
       "      <th>570</th>\n",
       "      <td>tt0000574</td>\n",
       "      <td>movie</td>\n",
       "      <td>The Story of the Kelly Gang</td>\n",
       "      <td>The Story of the Kelly Gang</td>\n",
       "      <td>0</td>\n",
       "      <td>1906</td>\n",
       "      <td>\\N</td>\n",
       "      <td>70</td>\n",
       "      <td>Action,Adventure,Biography</td>\n",
       "    </tr>\n",
       "    <tr>\n",
       "      <th>587</th>\n",
       "      <td>tt0000591</td>\n",
       "      <td>movie</td>\n",
       "      <td>The Prodigal Son</td>\n",
       "      <td>L'enfant prodigue</td>\n",
       "      <td>0</td>\n",
       "      <td>1907</td>\n",
       "      <td>\\N</td>\n",
       "      <td>90</td>\n",
       "      <td>Drama</td>\n",
       "    </tr>\n",
       "    <tr>\n",
       "      <th>610</th>\n",
       "      <td>tt0000615</td>\n",
       "      <td>movie</td>\n",
       "      <td>Robbery Under Arms</td>\n",
       "      <td>Robbery Under Arms</td>\n",
       "      <td>0</td>\n",
       "      <td>1907</td>\n",
       "      <td>\\N</td>\n",
       "      <td>\\N</td>\n",
       "      <td>Drama</td>\n",
       "    </tr>\n",
       "    <tr>\n",
       "      <th>625</th>\n",
       "      <td>tt0000630</td>\n",
       "      <td>movie</td>\n",
       "      <td>Hamlet</td>\n",
       "      <td>Amleto</td>\n",
       "      <td>0</td>\n",
       "      <td>1908</td>\n",
       "      <td>\\N</td>\n",
       "      <td>\\N</td>\n",
       "      <td>Drama</td>\n",
       "    </tr>\n",
       "    <tr>\n",
       "      <th>...</th>\n",
       "      <td>...</td>\n",
       "      <td>...</td>\n",
       "      <td>...</td>\n",
       "      <td>...</td>\n",
       "      <td>...</td>\n",
       "      <td>...</td>\n",
       "      <td>...</td>\n",
       "      <td>...</td>\n",
       "      <td>...</td>\n",
       "    </tr>\n",
       "    <tr>\n",
       "      <th>8230824</th>\n",
       "      <td>tt9916622</td>\n",
       "      <td>movie</td>\n",
       "      <td>Rodolpho Teóphilo - O Legado de um Pioneiro</td>\n",
       "      <td>Rodolpho Teóphilo - O Legado de um Pioneiro</td>\n",
       "      <td>0</td>\n",
       "      <td>2015</td>\n",
       "      <td>\\N</td>\n",
       "      <td>57</td>\n",
       "      <td>Documentary</td>\n",
       "    </tr>\n",
       "    <tr>\n",
       "      <th>8230851</th>\n",
       "      <td>tt9916680</td>\n",
       "      <td>movie</td>\n",
       "      <td>De la ilusión al desconcierto: cine colombiano...</td>\n",
       "      <td>De la ilusión al desconcierto: cine colombiano...</td>\n",
       "      <td>0</td>\n",
       "      <td>2007</td>\n",
       "      <td>\\N</td>\n",
       "      <td>100</td>\n",
       "      <td>Documentary</td>\n",
       "    </tr>\n",
       "    <tr>\n",
       "      <th>8230863</th>\n",
       "      <td>tt9916706</td>\n",
       "      <td>movie</td>\n",
       "      <td>Dankyavar Danka</td>\n",
       "      <td>Dankyavar Danka</td>\n",
       "      <td>0</td>\n",
       "      <td>2013</td>\n",
       "      <td>\\N</td>\n",
       "      <td>\\N</td>\n",
       "      <td>Comedy</td>\n",
       "    </tr>\n",
       "    <tr>\n",
       "      <th>8230874</th>\n",
       "      <td>tt9916730</td>\n",
       "      <td>movie</td>\n",
       "      <td>6 Gunn</td>\n",
       "      <td>6 Gunn</td>\n",
       "      <td>0</td>\n",
       "      <td>2017</td>\n",
       "      <td>\\N</td>\n",
       "      <td>116</td>\n",
       "      <td>\\N</td>\n",
       "    </tr>\n",
       "    <tr>\n",
       "      <th>8230885</th>\n",
       "      <td>tt9916754</td>\n",
       "      <td>movie</td>\n",
       "      <td>Chico Albuquerque - Revelações</td>\n",
       "      <td>Chico Albuquerque - Revelações</td>\n",
       "      <td>0</td>\n",
       "      <td>2013</td>\n",
       "      <td>\\N</td>\n",
       "      <td>49</td>\n",
       "      <td>Documentary</td>\n",
       "    </tr>\n",
       "  </tbody>\n",
       "</table>\n",
       "<p>586755 rows × 9 columns</p>\n",
       "</div>"
      ],
      "text/plain": [
       "            tconst titleType  \\\n",
       "498      tt0000502     movie   \n",
       "570      tt0000574     movie   \n",
       "587      tt0000591     movie   \n",
       "610      tt0000615     movie   \n",
       "625      tt0000630     movie   \n",
       "...            ...       ...   \n",
       "8230824  tt9916622     movie   \n",
       "8230851  tt9916680     movie   \n",
       "8230863  tt9916706     movie   \n",
       "8230874  tt9916730     movie   \n",
       "8230885  tt9916754     movie   \n",
       "\n",
       "                                              primaryTitle  \\\n",
       "498                                               Bohemios   \n",
       "570                            The Story of the Kelly Gang   \n",
       "587                                       The Prodigal Son   \n",
       "610                                     Robbery Under Arms   \n",
       "625                                                 Hamlet   \n",
       "...                                                    ...   \n",
       "8230824        Rodolpho Teóphilo - O Legado de um Pioneiro   \n",
       "8230851  De la ilusión al desconcierto: cine colombiano...   \n",
       "8230863                                    Dankyavar Danka   \n",
       "8230874                                             6 Gunn   \n",
       "8230885                     Chico Albuquerque - Revelações   \n",
       "\n",
       "                                             originalTitle isAdult startYear  \\\n",
       "498                                               Bohemios       0      1905   \n",
       "570                            The Story of the Kelly Gang       0      1906   \n",
       "587                                      L'enfant prodigue       0      1907   \n",
       "610                                     Robbery Under Arms       0      1907   \n",
       "625                                                 Amleto       0      1908   \n",
       "...                                                    ...     ...       ...   \n",
       "8230824        Rodolpho Teóphilo - O Legado de um Pioneiro       0      2015   \n",
       "8230851  De la ilusión al desconcierto: cine colombiano...       0      2007   \n",
       "8230863                                    Dankyavar Danka       0      2013   \n",
       "8230874                                             6 Gunn       0      2017   \n",
       "8230885                     Chico Albuquerque - Revelações       0      2013   \n",
       "\n",
       "        endYear runtimeMinutes                      genres  \n",
       "498          \\N            100                          \\N  \n",
       "570          \\N             70  Action,Adventure,Biography  \n",
       "587          \\N             90                       Drama  \n",
       "610          \\N             \\N                       Drama  \n",
       "625          \\N             \\N                       Drama  \n",
       "...         ...            ...                         ...  \n",
       "8230824      \\N             57                 Documentary  \n",
       "8230851      \\N            100                 Documentary  \n",
       "8230863      \\N             \\N                      Comedy  \n",
       "8230874      \\N            116                          \\N  \n",
       "8230885      \\N             49                 Documentary  \n",
       "\n",
       "[586755 rows x 9 columns]"
      ]
     },
     "execution_count": 230,
     "metadata": {},
     "output_type": "execute_result"
    }
   ],
   "source": [
    "genres"
   ]
  },
  {
   "cell_type": "code",
   "execution_count": 5,
   "metadata": {},
   "outputs": [],
   "source": [
    "# creating a new column \"startYear\" based on the year part of the release date for merging with the sales data.\n",
    "profit['startYear'] = profit['release_date'].map(lambda x : x[-4:])\n",
    "profit.rename(columns={'movie':'primaryTitle'}, inplace=True)"
   ]
  },
  {
   "cell_type": "code",
   "execution_count": 6,
   "metadata": {},
   "outputs": [],
   "source": [
    "# merging on movie title and year release \n",
    "f = pd.merge(genres,profit,on=['primaryTitle','startYear'],how='inner')"
   ]
  },
  {
   "cell_type": "code",
   "execution_count": 7,
   "metadata": {},
   "outputs": [],
   "source": [
    "# Removing \",\" and \"$\" from dollar columns to turn into type int\n",
    "f_dollar_cols = ['production_budget', 'domestic_gross','worldwide_gross']\n",
    "for i in f_dollar_cols:\n",
    "    f[i]=f[i].str.replace('$','')\n",
    "    f[i]=f[i].str.replace(',','').astype(int)\n",
    "f['profit']=f['worldwide_gross']-f['production_budget']"
   ]
  },
  {
   "cell_type": "code",
   "execution_count": 355,
   "metadata": {},
   "outputs": [],
   "source": [
    "f['Budget (MM)'] = f['production_budget']/1000000\n",
    "f['Profit (MM)'] = f['profit']/1000000\n",
    "f['Gross (MM)'] = f['worldwide_gross']/1000000"
   ]
  },
  {
   "cell_type": "code",
   "execution_count": 40,
   "metadata": {},
   "outputs": [],
   "source": [
    "ani = f[f['genres'].str.contains(\"Animation\")]"
   ]
  },
  {
   "cell_type": "code",
   "execution_count": 153,
   "metadata": {},
   "outputs": [
    {
     "data": {
      "text/html": [
       "<div>\n",
       "<style scoped>\n",
       "    .dataframe tbody tr th:only-of-type {\n",
       "        vertical-align: middle;\n",
       "    }\n",
       "\n",
       "    .dataframe tbody tr th {\n",
       "        vertical-align: top;\n",
       "    }\n",
       "\n",
       "    .dataframe thead th {\n",
       "        text-align: right;\n",
       "    }\n",
       "</style>\n",
       "<table border=\"1\" class=\"dataframe\">\n",
       "  <thead>\n",
       "    <tr style=\"text-align: right;\">\n",
       "      <th></th>\n",
       "      <th>id</th>\n",
       "      <th>production_budget</th>\n",
       "      <th>domestic_gross</th>\n",
       "      <th>worldwide_gross</th>\n",
       "      <th>profit</th>\n",
       "      <th>Budget (MM)</th>\n",
       "      <th>Profit (MM)</th>\n",
       "    </tr>\n",
       "  </thead>\n",
       "  <tbody>\n",
       "    <tr>\n",
       "      <th>count</th>\n",
       "      <td>227.000000</td>\n",
       "      <td>2.270000e+02</td>\n",
       "      <td>2.270000e+02</td>\n",
       "      <td>2.270000e+02</td>\n",
       "      <td>2.270000e+02</td>\n",
       "      <td>227.000000</td>\n",
       "      <td>227.000000</td>\n",
       "    </tr>\n",
       "    <tr>\n",
       "      <th>mean</th>\n",
       "      <td>51.933921</td>\n",
       "      <td>7.819192e+07</td>\n",
       "      <td>1.166257e+08</td>\n",
       "      <td>2.923981e+08</td>\n",
       "      <td>2.142062e+08</td>\n",
       "      <td>78.191917</td>\n",
       "      <td>214.206222</td>\n",
       "    </tr>\n",
       "    <tr>\n",
       "      <th>std</th>\n",
       "      <td>28.782524</td>\n",
       "      <td>5.327157e+07</td>\n",
       "      <td>1.051686e+08</td>\n",
       "      <td>2.795903e+08</td>\n",
       "      <td>2.502060e+08</td>\n",
       "      <td>53.271571</td>\n",
       "      <td>250.205972</td>\n",
       "    </tr>\n",
       "    <tr>\n",
       "      <th>min</th>\n",
       "      <td>1.000000</td>\n",
       "      <td>7.500000e+05</td>\n",
       "      <td>0.000000e+00</td>\n",
       "      <td>0.000000e+00</td>\n",
       "      <td>-1.104502e+08</td>\n",
       "      <td>0.750000</td>\n",
       "      <td>-110.450242</td>\n",
       "    </tr>\n",
       "    <tr>\n",
       "      <th>25%</th>\n",
       "      <td>29.500000</td>\n",
       "      <td>3.500000e+07</td>\n",
       "      <td>3.775230e+07</td>\n",
       "      <td>6.987402e+07</td>\n",
       "      <td>2.473589e+07</td>\n",
       "      <td>35.000000</td>\n",
       "      <td>24.735888</td>\n",
       "    </tr>\n",
       "    <tr>\n",
       "      <th>50%</th>\n",
       "      <td>50.000000</td>\n",
       "      <td>7.500000e+07</td>\n",
       "      <td>8.608951e+07</td>\n",
       "      <td>2.136913e+08</td>\n",
       "      <td>1.368277e+08</td>\n",
       "      <td>75.000000</td>\n",
       "      <td>136.827677</td>\n",
       "    </tr>\n",
       "    <tr>\n",
       "      <th>75%</th>\n",
       "      <td>77.000000</td>\n",
       "      <td>1.105000e+08</td>\n",
       "      <td>1.703960e+08</td>\n",
       "      <td>4.458375e+08</td>\n",
       "      <td>3.281741e+08</td>\n",
       "      <td>110.500000</td>\n",
       "      <td>328.174116</td>\n",
       "    </tr>\n",
       "    <tr>\n",
       "      <th>max</th>\n",
       "      <td>100.000000</td>\n",
       "      <td>2.600000e+08</td>\n",
       "      <td>6.085817e+08</td>\n",
       "      <td>1.272470e+09</td>\n",
       "      <td>1.122470e+09</td>\n",
       "      <td>260.000000</td>\n",
       "      <td>1122.469910</td>\n",
       "    </tr>\n",
       "  </tbody>\n",
       "</table>\n",
       "</div>"
      ],
      "text/plain": [
       "               id  production_budget  domestic_gross  worldwide_gross  \\\n",
       "count  227.000000       2.270000e+02    2.270000e+02     2.270000e+02   \n",
       "mean    51.933921       7.819192e+07    1.166257e+08     2.923981e+08   \n",
       "std     28.782524       5.327157e+07    1.051686e+08     2.795903e+08   \n",
       "min      1.000000       7.500000e+05    0.000000e+00     0.000000e+00   \n",
       "25%     29.500000       3.500000e+07    3.775230e+07     6.987402e+07   \n",
       "50%     50.000000       7.500000e+07    8.608951e+07     2.136913e+08   \n",
       "75%     77.000000       1.105000e+08    1.703960e+08     4.458375e+08   \n",
       "max    100.000000       2.600000e+08    6.085817e+08     1.272470e+09   \n",
       "\n",
       "             profit  Budget (MM)  Profit (MM)  \n",
       "count  2.270000e+02   227.000000   227.000000  \n",
       "mean   2.142062e+08    78.191917   214.206222  \n",
       "std    2.502060e+08    53.271571   250.205972  \n",
       "min   -1.104502e+08     0.750000  -110.450242  \n",
       "25%    2.473589e+07    35.000000    24.735888  \n",
       "50%    1.368277e+08    75.000000   136.827677  \n",
       "75%    3.281741e+08   110.500000   328.174116  \n",
       "max    1.122470e+09   260.000000  1122.469910  "
      ]
     },
     "execution_count": 153,
     "metadata": {},
     "output_type": "execute_result"
    }
   ],
   "source": [
    "ani.describe()"
   ]
  },
  {
   "cell_type": "code",
   "execution_count": 66,
   "metadata": {},
   "outputs": [],
   "source": [
    "#Creating Deduplicated list of Genres to use as Keys for Dictionary\n",
    "genre_list = f.genres.str.split(',').to_list()\n",
    "genre_list = list(set(list(chain.from_iterable(genre_list))))"
   ]
  },
  {
   "cell_type": "code",
   "execution_count": 68,
   "metadata": {},
   "outputs": [],
   "source": [
    "#creating dictionary with values as lists to map ratings to genres\n",
    "genre_dict={}\n",
    "for item in genre_list:\n",
    "    genre_dict[item] = []\n",
    "    \n",
    "val_dict={}\n",
    "for item in genre_list:\n",
    "    val_dict[item] = []"
   ]
  },
  {
   "cell_type": "code",
   "execution_count": 69,
   "metadata": {},
   "outputs": [],
   "source": [
    "#appending values from df to dictionary based on genre key\n",
    "for index, row in f.iterrows():\n",
    "    for genre in val_dict:\n",
    "        if genre in row['genres']:\n",
    "            val_dict[genre].append(row['Profit (MM)'])"
   ]
  },
  {
   "cell_type": "code",
   "execution_count": 74,
   "metadata": {},
   "outputs": [],
   "source": [
    "budget_dict= genre_dict.copy()\n",
    "for index, row in f.iterrows():\n",
    "    for genre in budget_dict:\n",
    "        if genre in row['genres']:\n",
    "            budget_dict[genre].append(row['Budget (MM)'])"
   ]
  },
  {
   "cell_type": "code",
   "execution_count": 76,
   "metadata": {},
   "outputs": [],
   "source": [
    "# statistics.median(budget_dict['Animation'])"
   ]
  },
  {
   "cell_type": "code",
   "execution_count": 130,
   "metadata": {},
   "outputs": [],
   "source": [
    "# calculating count of movies in each genre (so we can exclude genres with low movie sample)\n",
    "count_dict = genre_dict.copy()\n",
    "for i in count_dict:\n",
    "    count_dict[i] = len(count_dict[i])"
   ]
  },
  {
   "cell_type": "code",
   "execution_count": 142,
   "metadata": {},
   "outputs": [],
   "source": [
    "# calculating average rating per Genre\n",
    "median_val_dict = {}\n",
    "for i in val_dict:\n",
    "    median_val_dict[i] = statistics.median(val_dict[i])"
   ]
  },
  {
   "cell_type": "code",
   "execution_count": 143,
   "metadata": {},
   "outputs": [],
   "source": [
    "# calculating average rating per Genre\n",
    "budget_val_dict = {}\n",
    "for i in budget_dict:\n",
    "    budget_val_dict[i] = statistics.median(budget_dict[i])"
   ]
  },
  {
   "cell_type": "code",
   "execution_count": 144,
   "metadata": {},
   "outputs": [],
   "source": [
    "#creating df from ratings column from dictionary\n",
    "profit_by_genre = pd.DataFrame(median_val_dict,index=['Median Profit (MM)'])\n",
    "profit_by_genre = profit_by_genre.transpose()\n",
    "profit_by_genre = profit_by_genre.reset_index()"
   ]
  },
  {
   "cell_type": "code",
   "execution_count": 145,
   "metadata": {},
   "outputs": [],
   "source": [
    "budget_by_genre = pd.DataFrame(budget_val_dict,index=['Median Budget (MM)'])\n",
    "budget_by_genre = budget_by_genre.transpose()\n",
    "budget_by_genre = budget_by_genre.reset_index()"
   ]
  },
  {
   "cell_type": "code",
   "execution_count": 146,
   "metadata": {},
   "outputs": [],
   "source": [
    "#creating df with count column from dictionary\n",
    "count_by_genre = pd.DataFrame(count_dict,index=['Count'])\n",
    "count_by_genre = count_by_genre.transpose()\n",
    "count_by_genre = count_by_genre.reset_index()"
   ]
  },
  {
   "cell_type": "code",
   "execution_count": 147,
   "metadata": {},
   "outputs": [],
   "source": [
    "# final merge onto genre column for analysis\n",
    "genre = pd.merge(profit_by_genre, budget_by_genre, on=\"index\")\n",
    "genre = pd.merge(genre, count_by_genre, on=\"index\")\n",
    "genre.rename(columns={'index':'Genre'},inplace=True)"
   ]
  },
  {
   "cell_type": "code",
   "execution_count": 148,
   "metadata": {},
   "outputs": [],
   "source": [
    "# filtering out any genre column that has less than 10 movies represented and sorting by highest rating\n",
    "genre = genre.loc[genre['Count'] >= 10].reset_index(drop=True)\n",
    "genre = genre.sort_values('Median Profit (MM)', ascending = False)"
   ]
  },
  {
   "cell_type": "code",
   "execution_count": 149,
   "metadata": {},
   "outputs": [],
   "source": [
    "genre = genre.drop(columns='Count')"
   ]
  },
  {
   "cell_type": "code",
   "execution_count": 150,
   "metadata": {},
   "outputs": [],
   "source": [
    "genre = genre.head(10)"
   ]
  },
  {
   "cell_type": "code",
   "execution_count": 151,
   "metadata": {},
   "outputs": [],
   "source": [
    "genre = genre.melt(id_vars='Genre').rename(columns=str.title)"
   ]
  },
  {
   "cell_type": "code",
   "execution_count": 193,
   "metadata": {},
   "outputs": [
    {
     "data": {
      "image/png": "[encoded data removed]",
      "text/plain": [
       "<Figure size 1080x720 with 1 Axes>"
      ]
     },
     "metadata": {
      "needs_background": "light"
     },
     "output_type": "display_data"
    }
   ],
   "source": [
    "fig, ax = plt.subplots(figsize=(15, 10))\n",
    "\n",
    "barplot = sns.barplot(x='Genre', y='Value', hue='Variable', data=genre, palette=\"rocket\", ax=ax)\n",
    "ax.set(xlabel='Genres', ylabel='$ (Millions)')\n",
    "\n",
    "for p in barplot.patches:\n",
    "    barplot.annotate(format(p.get_height(), '.1f'), \n",
    "                   (p.get_x() + p.get_width() / 2., p.get_height()), \n",
    "                   ha = 'center', va = 'center', \n",
    "                   xytext = (0, 9), \n",
    "                   textcoords = 'offset points')"
   ]
  },
  {
   "cell_type": "code",
   "execution_count": 190,
   "metadata": {},
   "outputs": [],
   "source": [
    "def top_in_genre(genre):\n",
    "    cols=['primaryTitle', 'release_date',\n",
    "       'runtimeMinutes','genres',\n",
    "       'production_budget','worldwide_gross', 'profit']\n",
    "    df = f[cols]\n",
    "    df = df.loc[df['genres'].str.contains(genre)]\n",
    "    df = df.sort_values(by='profit',ascending=False).head(5)\n",
    "    return df"
   ]
  },
  {
   "cell_type": "code",
   "execution_count": 195,
   "metadata": {
    "scrolled": false
   },
   "outputs": [
    {
     "data": {
      "text/html": [
       "<div>\n",
       "<style scoped>\n",
       "    .dataframe tbody tr th:only-of-type {\n",
       "        vertical-align: middle;\n",
       "    }\n",
       "\n",
       "    .dataframe tbody tr th {\n",
       "        vertical-align: top;\n",
       "    }\n",
       "\n",
       "    .dataframe thead th {\n",
       "        text-align: right;\n",
       "    }\n",
       "</style>\n",
       "<table border=\"1\" class=\"dataframe\">\n",
       "  <thead>\n",
       "    <tr style=\"text-align: right;\">\n",
       "      <th></th>\n",
       "      <th>primaryTitle</th>\n",
       "      <th>release_date</th>\n",
       "      <th>runtimeMinutes</th>\n",
       "      <th>genres</th>\n",
       "      <th>production_budget</th>\n",
       "      <th>worldwide_gross</th>\n",
       "      <th>profit</th>\n",
       "    </tr>\n",
       "  </thead>\n",
       "  <tbody>\n",
       "    <tr>\n",
       "      <th>2491</th>\n",
       "      <td>Avatar</td>\n",
       "      <td>Dec 18, 2009</td>\n",
       "      <td>162</td>\n",
       "      <td>Action,Adventure,Fantasy</td>\n",
       "      <td>425000000</td>\n",
       "      <td>2776345279</td>\n",
       "      <td>2351345279</td>\n",
       "    </tr>\n",
       "    <tr>\n",
       "      <th>4110</th>\n",
       "      <td>Avengers: Infinity War</td>\n",
       "      <td>Apr 27, 2018</td>\n",
       "      <td>149</td>\n",
       "      <td>Action,Adventure,Sci-Fi</td>\n",
       "      <td>300000000</td>\n",
       "      <td>2048134200</td>\n",
       "      <td>1748134200</td>\n",
       "    </tr>\n",
       "    <tr>\n",
       "      <th>1987</th>\n",
       "      <td>Jurassic World</td>\n",
       "      <td>Jun 12, 2015</td>\n",
       "      <td>124</td>\n",
       "      <td>Action,Adventure,Sci-Fi</td>\n",
       "      <td>215000000</td>\n",
       "      <td>1648854864</td>\n",
       "      <td>1433854864</td>\n",
       "    </tr>\n",
       "    <tr>\n",
       "      <th>3890</th>\n",
       "      <td>Furious 7</td>\n",
       "      <td>Apr 3, 2015</td>\n",
       "      <td>137</td>\n",
       "      <td>Action,Adventure,Thriller</td>\n",
       "      <td>190000000</td>\n",
       "      <td>1518722794</td>\n",
       "      <td>1328722794</td>\n",
       "    </tr>\n",
       "    <tr>\n",
       "      <th>2617</th>\n",
       "      <td>The Avengers</td>\n",
       "      <td>May 4, 2012</td>\n",
       "      <td>143</td>\n",
       "      <td>Action,Adventure,Sci-Fi</td>\n",
       "      <td>225000000</td>\n",
       "      <td>1517935897</td>\n",
       "      <td>1292935897</td>\n",
       "    </tr>\n",
       "  </tbody>\n",
       "</table>\n",
       "</div>"
      ],
      "text/plain": [
       "                primaryTitle  release_date runtimeMinutes  \\\n",
       "2491                  Avatar  Dec 18, 2009            162   \n",
       "4110  Avengers: Infinity War  Apr 27, 2018            149   \n",
       "1987          Jurassic World  Jun 12, 2015            124   \n",
       "3890               Furious 7   Apr 3, 2015            137   \n",
       "2617            The Avengers   May 4, 2012            143   \n",
       "\n",
       "                         genres  production_budget  worldwide_gross  \\\n",
       "2491   Action,Adventure,Fantasy          425000000       2776345279   \n",
       "4110    Action,Adventure,Sci-Fi          300000000       2048134200   \n",
       "1987    Action,Adventure,Sci-Fi          215000000       1648854864   \n",
       "3890  Action,Adventure,Thriller          190000000       1518722794   \n",
       "2617    Action,Adventure,Sci-Fi          225000000       1517935897   \n",
       "\n",
       "          profit  \n",
       "2491  2351345279  \n",
       "4110  1748134200  \n",
       "1987  1433854864  \n",
       "3890  1328722794  \n",
       "2617  1292935897  "
      ]
     },
     "execution_count": 195,
     "metadata": {},
     "output_type": "execute_result"
    }
   ],
   "source": [
    "top_in_genre('Adventure')"
   ]
  },
  {
   "cell_type": "markdown",
   "metadata": {},
   "source": [
    "# SUGGESTION 2 \n",
    "\n",
    "#don't need the region when merging with profit since they are all US, can skip the beginning merge"
   ]
  },
  {
   "cell_type": "code",
   "execution_count": 403,
   "metadata": {},
   "outputs": [],
   "source": [
    "#read in data, merge together\n",
    "namebasics = pd.read_csv(paths[5])\n",
    "titleps = pd.read_csv(paths[11])\n",
    "crew = pd.merge(titleps,namebasics,on='nconst',how='left')\n",
    "#merge with financial data\n",
    "fcrew = pd.merge(crew,f,on='tconst',how='inner')"
   ]
  },
  {
   "cell_type": "code",
   "execution_count": 404,
   "metadata": {},
   "outputs": [],
   "source": [
    "fcrew['Budget (MM)'] = fcrew['production_budget']/1000000\n",
    "fcrew['Profit (MM)'] = fcrew['profit']/1000000\n",
    "fcrew['Profit (B)'] = fcrew['profit']/1000000000\n",
    "fcrew['Gross (MM)'] = fcrew['worldwide_gross']/1000000"
   ]
  },
  {
   "cell_type": "code",
   "execution_count": 405,
   "metadata": {},
   "outputs": [],
   "source": [
    "#keep certain cols\n",
    "crew_cols = ['category','tconst','primary_name','characters','primaryTitle','genres','release_date',\n",
    "            'Budget (MM)','Gross (MM)','Profit (MM)','Profit (B)']\n",
    "fcrew = fcrew[crew_cols]"
   ]
  },
  {
   "cell_type": "code",
   "execution_count": 406,
   "metadata": {},
   "outputs": [
    {
     "data": {
      "text/plain": [
       "array(['cinematographer', 'actor', 'director', 'producer', 'composer',\n",
       "       'actress', 'writer', 'editor', 'production_designer', 'self',\n",
       "       'archive_footage', 'archive_sound'], dtype=object)"
      ]
     },
     "execution_count": 406,
     "metadata": {},
     "output_type": "execute_result"
    }
   ],
   "source": [
    "fcrew['category'].unique()"
   ]
  },
  {
   "cell_type": "code",
   "execution_count": 407,
   "metadata": {},
   "outputs": [],
   "source": [
    "#filter on genres based on last suggestion\n",
    "animation = fcrew.loc[fcrew['genres'].str.contains('Animation')]\n",
    "action = fcrew.loc[fcrew['genres'].str.contains('Adventure')]\n",
    "comedy = fcrew.loc[fcrew['genres'].str.contains('Comedy')]\n",
    "\n",
    "# fcrew = pd.concat(animation,action,comedy)\n",
    "fcrew = animation.append([action, comedy])"
   ]
  },
  {
   "cell_type": "code",
   "execution_count": 501,
   "metadata": {},
   "outputs": [],
   "source": [
    "def top_crew(df,category_list,chart_title):\n",
    "    df = df.loc[df['category'].isin(category_list)] \n",
    "    df = df.groupby('primary_name')['Profit (B)'].agg(['sum','count']).reset_index()\n",
    "    df.sort_values('sum',ascending=False,inplace=True)\n",
    "    df = df.drop_duplicates()\n",
    "    \n",
    "    sns.set_style(style='white') \n",
    "    fig, ax = plt.subplots(figsize=(15,10))\n",
    "    sns.barplot(x = 'primary_name',\n",
    "                y = 'sum',\n",
    "                data = df.head(3),\n",
    "                palette=\"rocket\",\n",
    "                ax = ax)\n",
    "    ax.set(xlabel='', ylabel='Profit Sum (Billions)')\n",
    "    plt.title(chart_title, size=22)\n",
    "    sns.set(font_scale = 2)\n",
    "    fig.tight_layout()\n",
    "    return fig, df.head(3)"
   ]
  },
  {
   "cell_type": "code",
   "execution_count": 525,
   "metadata": {},
   "outputs": [
    {
     "data": {
      "text/plain": [
       "(<Figure size 1080x720 with 1 Axes>,\n",
       "      primary_name        sum  count\n",
       " 1005     Stan Lee  11.051862     17\n",
       " 196    Cinco Paul   9.812452     15\n",
       " 638    Ken Daurio   9.812452     15)"
      ]
     },
     "execution_count": 525,
     "metadata": {},
     "output_type": "execute_result"
    },
    {
     "data": {
      "image/png": "[encoded data removed]",
      "text/plain": [
       "<Figure size 1080x720 with 1 Axes>"
      ]
     },
     "metadata": {},
     "output_type": "display_data"
    }
   ],
   "source": [
    "top_crew(fcrew,['writer'],'Total Movie Profit per Director')"
   ]
  },
  {
   "cell_type": "code",
   "execution_count": 524,
   "metadata": {},
   "outputs": [
    {
     "data": {
      "text/html": [
       "<div>\n",
       "<style scoped>\n",
       "    .dataframe tbody tr th:only-of-type {\n",
       "        vertical-align: middle;\n",
       "    }\n",
       "\n",
       "    .dataframe tbody tr th {\n",
       "        vertical-align: top;\n",
       "    }\n",
       "\n",
       "    .dataframe thead th {\n",
       "        text-align: right;\n",
       "    }\n",
       "</style>\n",
       "<table border=\"1\" class=\"dataframe\">\n",
       "  <thead>\n",
       "    <tr style=\"text-align: right;\">\n",
       "      <th></th>\n",
       "      <th>category</th>\n",
       "      <th>tconst</th>\n",
       "      <th>primary_name</th>\n",
       "      <th>characters</th>\n",
       "      <th>primaryTitle</th>\n",
       "      <th>genres</th>\n",
       "      <th>release_date</th>\n",
       "      <th>Budget (MM)</th>\n",
       "      <th>Gross (MM)</th>\n",
       "      <th>Profit (MM)</th>\n",
       "      <th>Profit (B)</th>\n",
       "    </tr>\n",
       "  </thead>\n",
       "  <tbody>\n",
       "    <tr>\n",
       "      <th>5126</th>\n",
       "      <td>composer</td>\n",
       "      <td>tt1216475</td>\n",
       "      <td>Michael Giacchino</td>\n",
       "      <td>NaN</td>\n",
       "      <td>Cars 2</td>\n",
       "      <td>Adventure,Animation,Comedy</td>\n",
       "      <td>Jun 24, 2011</td>\n",
       "      <td>200.0</td>\n",
       "      <td>560.155383</td>\n",
       "      <td>360.155383</td>\n",
       "      <td>0.360155</td>\n",
       "    </tr>\n",
       "    <tr>\n",
       "      <th>9547</th>\n",
       "      <td>composer</td>\n",
       "      <td>tt2380307</td>\n",
       "      <td>Michael Giacchino</td>\n",
       "      <td>NaN</td>\n",
       "      <td>Coco</td>\n",
       "      <td>Adventure,Animation,Comedy</td>\n",
       "      <td>Nov 22, 2017</td>\n",
       "      <td>175.0</td>\n",
       "      <td>798.008101</td>\n",
       "      <td>623.008101</td>\n",
       "      <td>0.623008</td>\n",
       "    </tr>\n",
       "    <tr>\n",
       "      <th>10708</th>\n",
       "      <td>composer</td>\n",
       "      <td>tt3606756</td>\n",
       "      <td>Michael Giacchino</td>\n",
       "      <td>NaN</td>\n",
       "      <td>Incredibles 2</td>\n",
       "      <td>Action,Adventure,Animation</td>\n",
       "      <td>Jun 15, 2018</td>\n",
       "      <td>200.0</td>\n",
       "      <td>1242.520711</td>\n",
       "      <td>1042.520711</td>\n",
       "      <td>1.042521</td>\n",
       "    </tr>\n",
       "    <tr>\n",
       "      <th>2991</th>\n",
       "      <td>composer</td>\n",
       "      <td>tt1617661</td>\n",
       "      <td>Michael Giacchino</td>\n",
       "      <td>NaN</td>\n",
       "      <td>Jupiter Ascending</td>\n",
       "      <td>Action,Adventure,Sci-Fi</td>\n",
       "      <td>Feb 6, 2015</td>\n",
       "      <td>179.0</td>\n",
       "      <td>181.982519</td>\n",
       "      <td>2.982519</td>\n",
       "      <td>0.002983</td>\n",
       "    </tr>\n",
       "    <tr>\n",
       "      <th>3152</th>\n",
       "      <td>composer</td>\n",
       "      <td>tt1964418</td>\n",
       "      <td>Michael Giacchino</td>\n",
       "      <td>NaN</td>\n",
       "      <td>Tomorrowland</td>\n",
       "      <td>Action,Adventure,Family</td>\n",
       "      <td>May 22, 2015</td>\n",
       "      <td>170.0</td>\n",
       "      <td>206.627518</td>\n",
       "      <td>36.627518</td>\n",
       "      <td>0.036628</td>\n",
       "    </tr>\n",
       "    <tr>\n",
       "      <th>7129</th>\n",
       "      <td>composer</td>\n",
       "      <td>tt1306980</td>\n",
       "      <td>Michael Giacchino</td>\n",
       "      <td>NaN</td>\n",
       "      <td>50/50</td>\n",
       "      <td>Comedy,Drama,Romance</td>\n",
       "      <td>Sep 30, 2011</td>\n",
       "      <td>8.0</td>\n",
       "      <td>41.334735</td>\n",
       "      <td>33.334735</td>\n",
       "      <td>0.033335</td>\n",
       "    </tr>\n",
       "  </tbody>\n",
       "</table>\n",
       "</div>"
      ],
      "text/plain": [
       "       category     tconst       primary_name characters       primaryTitle  \\\n",
       "5126   composer  tt1216475  Michael Giacchino        NaN             Cars 2   \n",
       "9547   composer  tt2380307  Michael Giacchino        NaN               Coco   \n",
       "10708  composer  tt3606756  Michael Giacchino        NaN      Incredibles 2   \n",
       "2991   composer  tt1617661  Michael Giacchino        NaN  Jupiter Ascending   \n",
       "3152   composer  tt1964418  Michael Giacchino        NaN       Tomorrowland   \n",
       "7129   composer  tt1306980  Michael Giacchino        NaN              50/50   \n",
       "\n",
       "                           genres  release_date  Budget (MM)   Gross (MM)  \\\n",
       "5126   Adventure,Animation,Comedy  Jun 24, 2011        200.0   560.155383   \n",
       "9547   Adventure,Animation,Comedy  Nov 22, 2017        175.0   798.008101   \n",
       "10708  Action,Adventure,Animation  Jun 15, 2018        200.0  1242.520711   \n",
       "2991      Action,Adventure,Sci-Fi   Feb 6, 2015        179.0   181.982519   \n",
       "3152      Action,Adventure,Family  May 22, 2015        170.0   206.627518   \n",
       "7129         Comedy,Drama,Romance  Sep 30, 2011          8.0    41.334735   \n",
       "\n",
       "       Profit (MM)  Profit (B)  \n",
       "5126    360.155383    0.360155  \n",
       "9547    623.008101    0.623008  \n",
       "10708  1042.520711    1.042521  \n",
       "2991      2.982519    0.002983  \n",
       "3152     36.627518    0.036628  \n",
       "7129     33.334735    0.033335  "
      ]
     },
     "execution_count": 524,
     "metadata": {},
     "output_type": "execute_result"
    }
   ],
   "source": [
    "fcrew.loc[fcrew['primary_name']=='Michael Giacchino'].drop_duplicates()"
   ]
  },
  {
   "cell_type": "markdown",
   "metadata": {},
   "source": [
    "# time of year"
   ]
  },
  {
   "cell_type": "code",
   "execution_count": 336,
   "metadata": {},
   "outputs": [],
   "source": [
    "f['release_month'] = f['release_date'].map(lambda x : x[:4])"
   ]
  },
  {
   "cell_type": "code",
   "execution_count": 337,
   "metadata": {},
   "outputs": [],
   "source": [
    "f['release_day'] = f['release_date'].map(lambda x : x[4:6])"
   ]
  },
  {
   "cell_type": "code",
   "execution_count": 338,
   "metadata": {},
   "outputs": [],
   "source": [
    "f['release_day'] = f['release_day'].str.strip(',')\n",
    "f['release_day'] = f['release_day'].astype(int)"
   ]
  },
  {
   "cell_type": "code",
   "execution_count": 357,
   "metadata": {},
   "outputs": [],
   "source": [
    "month= f.groupby(by='release_month').mean().reset_index()\n",
    "month['release_month'] = month['release_month'].str.strip()"
   ]
  },
  {
   "cell_type": "code",
   "execution_count": 358,
   "metadata": {},
   "outputs": [],
   "source": [
    "month_list=['Jan','Feb','Mar','Apr','May','Jun','Jul','Aug','Sep','Oct','Nov','Dec']"
   ]
  },
  {
   "cell_type": "code",
   "execution_count": 359,
   "metadata": {},
   "outputs": [],
   "source": [
    "month = month.set_index('release_month')\n",
    "month = month.loc[month_list]"
   ]
  },
  {
   "cell_type": "code",
   "execution_count": 364,
   "metadata": {},
   "outputs": [
    {
     "data": {
      "text/html": [
       "<div>\n",
       "<style scoped>\n",
       "    .dataframe tbody tr th:only-of-type {\n",
       "        vertical-align: middle;\n",
       "    }\n",
       "\n",
       "    .dataframe tbody tr th {\n",
       "        vertical-align: top;\n",
       "    }\n",
       "\n",
       "    .dataframe thead th {\n",
       "        text-align: right;\n",
       "    }\n",
       "</style>\n",
       "<table border=\"1\" class=\"dataframe\">\n",
       "  <thead>\n",
       "    <tr style=\"text-align: right;\">\n",
       "      <th></th>\n",
       "      <th>Gross (MM)</th>\n",
       "    </tr>\n",
       "    <tr>\n",
       "      <th>release_month</th>\n",
       "      <th></th>\n",
       "    </tr>\n",
       "  </thead>\n",
       "  <tbody>\n",
       "    <tr>\n",
       "      <th>Jan</th>\n",
       "      <td>56.263923</td>\n",
       "    </tr>\n",
       "    <tr>\n",
       "      <th>Feb</th>\n",
       "      <td>89.493970</td>\n",
       "    </tr>\n",
       "    <tr>\n",
       "      <th>Mar</th>\n",
       "      <td>115.112556</td>\n",
       "    </tr>\n",
       "    <tr>\n",
       "      <th>Apr</th>\n",
       "      <td>84.501328</td>\n",
       "    </tr>\n",
       "    <tr>\n",
       "      <th>May</th>\n",
       "      <td>195.325810</td>\n",
       "    </tr>\n",
       "    <tr>\n",
       "      <th>Jun</th>\n",
       "      <td>167.529097</td>\n",
       "    </tr>\n",
       "    <tr>\n",
       "      <th>Jul</th>\n",
       "      <td>157.369936</td>\n",
       "    </tr>\n",
       "    <tr>\n",
       "      <th>Aug</th>\n",
       "      <td>70.057389</td>\n",
       "    </tr>\n",
       "    <tr>\n",
       "      <th>Sep</th>\n",
       "      <td>50.761861</td>\n",
       "    </tr>\n",
       "    <tr>\n",
       "      <th>Oct</th>\n",
       "      <td>53.308883</td>\n",
       "    </tr>\n",
       "    <tr>\n",
       "      <th>Nov</th>\n",
       "      <td>140.109534</td>\n",
       "    </tr>\n",
       "    <tr>\n",
       "      <th>Dec</th>\n",
       "      <td>111.169390</td>\n",
       "    </tr>\n",
       "  </tbody>\n",
       "</table>\n",
       "</div>"
      ],
      "text/plain": [
       "               Gross (MM)\n",
       "release_month            \n",
       "Jan             56.263923\n",
       "Feb             89.493970\n",
       "Mar            115.112556\n",
       "Apr             84.501328\n",
       "May            195.325810\n",
       "Jun            167.529097\n",
       "Jul            157.369936\n",
       "Aug             70.057389\n",
       "Sep             50.761861\n",
       "Oct             53.308883\n",
       "Nov            140.109534\n",
       "Dec            111.169390"
      ]
     },
     "execution_count": 364,
     "metadata": {},
     "output_type": "execute_result"
    }
   ],
   "source": [
    "month[['Gross (MM)']]"
   ]
  },
  {
   "cell_type": "code",
   "execution_count": 363,
   "metadata": {},
   "outputs": [
    {
     "data": {
      "image/png": "[encoded data removed]",
      "text/plain": [
       "<Figure size 1080x720 with 1 Axes>"
      ]
     },
     "metadata": {
      "needs_background": "light"
     },
     "output_type": "display_data"
    }
   ],
   "source": [
    "# Bar Plot of Ratings by Genre\n",
    "fig, ax = plt.subplots(figsize=(15,10))\n",
    "lplot = sns.lineplot(x = 'release_month',\n",
    "            y = 'Gross (MM)',\n",
    "            data = month,\n",
    "            ax = ax,\n",
    "            color = 'purple')\n",
    "fig.tight_layout()\n",
    "\n",
    "# set labels\n",
    "plt.xlabel(\"Month of Release\", size=18)\n",
    "plt.ylabel(\"Average Worldwide Gross in Millions\", size=18)\n",
    "plt.title(\"Average Worldwide Gross by Month of Movie Release\", size=22)\n",
    "\n",
    "plt.tight_layout()"
   ]
  },
  {
   "cell_type": "markdown",
   "metadata": {},
   "source": [
    "## Conclusion\n",
    "\n",
    "- Microsoft should create Animated, Adventure, or Action movies, as these genre's have the highest median profit\n",
    "- \n",
    "- Microsoft should aim to release movies in early summer, as May, June, and July have the highest average movie gross. "
   ]
  },
  {
   "cell_type": "markdown",
   "metadata": {},
   "source": [
    "## Next Steps"
   ]
  },
  {
   "cell_type": "code",
   "execution_count": null,
   "metadata": {},
   "outputs": [],
   "source": [
    "- "
   ]
  }
 ],
 "metadata": {
  "kernelspec": {
   "display_name": "Python 3",
   "language": "python",
   "name": "python3"
  },
  "language_info": {
   "codemirror_mode": {
    "name": "ipython",
    "version": 3
   },
   "file_extension": ".py",
   "mimetype": "text/x-python",
   "name": "python",
   "nbconvert_exporter": "python",
   "pygments_lexer": "ipython3",
   "version": "3.8.5"
  }
 },
 "nbformat": 4,
 "nbformat_minor": 2
}
